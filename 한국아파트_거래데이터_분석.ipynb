{
  "nbformat": 4,
  "nbformat_minor": 0,
  "metadata": {
    "colab": {
      "provenance": [],
      "collapsed_sections": [],
      "mount_file_id": "1QMVW0i76_8l_Iq-NUdG0A-vaz0vLoc4V",
      "authorship_tag": "ABX9TyMLeGEy8zDJHi1621lX5TB9"
    },
    "kernelspec": {
      "name": "python3",
      "display_name": "Python 3"
    },
    "language_info": {
      "name": "python"
    }
  },
  "cells": [
    {
      "cell_type": "markdown",
      "source": [
        "#Korean Apartment Deal Data\n",
        "https://www.kaggle.com/datasets/brainer3220/korean-real-estate-transaction-data"
      ],
      "metadata": {
        "id": "5iUm1vS2Lm9-"
      }
    },
    {
      "cell_type": "markdown",
      "source": [
        "## 1. 프로젝트 목표\n",
        "- 아파트 가격에 영향을 주는 요인 파악\n",
        "- 연도별 아파트 가격 추세 파악"
      ],
      "metadata": {
        "id": "2aMIyeHsyaWq"
      }
    },
    {
      "cell_type": "markdown",
      "source": [
        "## 2. 라이브러리 호출 및 데이터 정보"
      ],
      "metadata": {
        "id": "DlT-URV7yyue"
      }
    },
    {
      "cell_type": "markdown",
      "source": [
        "- 지역코드 : 대한민국 정부가 사용하는 지역번호의 첫 5자리 숫자이다\n",
        "이 코드는 API를 호출할 때 사용되었으며, 데이터 분석에는 의미가 없을 것 같다.\n",
        "- 법정동 : 대한민국 주소 체계\n",
        "- 거래일\n",
        "- 아파트 : 아파트명\n",
        "- 지번 : 한국에서 과거에 사용하던 주소 체계이며, 현 정부에서 일반적으로 사용하지 않지만 여전히 사용되고있다.\n",
        "- 전용면적 : m^2\n",
        "- 층 : 거래된 층수\n",
        "- 건축년도 : 건물이 지어진 연도\n",
        "- 거래금액 : 아파트 거래금액 (단위:10,000원)"
      ],
      "metadata": {
        "id": "SyXbMbCWMFTK"
      }
    },
    {
      "cell_type": "code",
      "source": [
        "df.columns"
      ],
      "metadata": {
        "colab": {
          "base_uri": "https://localhost:8080/"
        },
        "id": "2xLpcAjuRJ6A",
        "outputId": "f021d2e9-c676-4981-a69c-3b49f6cd4c90"
      },
      "execution_count": 77,
      "outputs": [
        {
          "output_type": "execute_result",
          "data": {
            "text/plain": [
              "Index(['지역', '구', '법정동', '거래일', '아파트', '전용면적', '층', '건축년도', '거래금액'], dtype='object')"
            ]
          },
          "metadata": {},
          "execution_count": 77
        }
      ]
    },
    {
      "cell_type": "code",
      "source": [
        "!sudo apt-get install -y fonts-nanum\n",
        "!sudo fc-cache -fv\n",
        "!rm ~/.cache/matplotlib -rf"
      ],
      "metadata": {
        "colab": {
          "base_uri": "https://localhost:8080/"
        },
        "id": "8rGkVJRBVR2C",
        "outputId": "445b6c32-7b65-4502-9ded-2c1856b6ac03"
      },
      "execution_count": 95,
      "outputs": [
        {
          "output_type": "stream",
          "name": "stdout",
          "text": [
            "Reading package lists... Done\n",
            "Building dependency tree       \n",
            "Reading state information... Done\n",
            "fonts-nanum is already the newest version (20170925-1).\n",
            "The following package was automatically installed and is no longer required:\n",
            "  libnvidia-common-460\n",
            "Use 'sudo apt autoremove' to remove it.\n",
            "0 upgraded, 0 newly installed, 0 to remove and 20 not upgraded.\n",
            "/usr/share/fonts: caching, new cache contents: 0 fonts, 1 dirs\n",
            "/usr/share/fonts/truetype: caching, new cache contents: 0 fonts, 3 dirs\n",
            "/usr/share/fonts/truetype/humor-sans: caching, new cache contents: 1 fonts, 0 dirs\n",
            "/usr/share/fonts/truetype/liberation: caching, new cache contents: 16 fonts, 0 dirs\n",
            "/usr/share/fonts/truetype/nanum: caching, new cache contents: 10 fonts, 0 dirs\n",
            "/usr/local/share/fonts: caching, new cache contents: 0 fonts, 0 dirs\n",
            "/root/.local/share/fonts: skipping, no such directory\n",
            "/root/.fonts: skipping, no such directory\n",
            "/var/cache/fontconfig: cleaning cache directory\n",
            "/root/.cache/fontconfig: not cleaning non-existent cache directory\n",
            "/root/.fontconfig: not cleaning non-existent cache directory\n",
            "fc-cache: succeeded\n"
          ]
        }
      ]
    },
    {
      "cell_type": "code",
      "execution_count": 1,
      "metadata": {
        "id": "HsxEQSAfRwpn"
      },
      "outputs": [],
      "source": [
        "import pandas as pd\n",
        "import numpy as np\n",
        "import matplotlib.pyplot as plt\n",
        "import seaborn as sns\n",
        "\n",
        "plt.rc('font', family='NanumBarunGothic')\n",
        "\n",
        "%matplotlib inline\n",
        "\n",
        "import datetime as dt\n",
        "\n",
        "import warnings\n",
        "warnings.filterwarnings('ignore')"
      ]
    },
    {
      "cell_type": "code",
      "source": [
        "import os"
      ],
      "metadata": {
        "id": "h5diVQQBRxSy"
      },
      "execution_count": 2,
      "outputs": []
    },
    {
      "cell_type": "code",
      "source": [
        "# os.environ을 이용하여 Kaggle API Username, Key 세팅하기\n",
        "os.environ['KAGGLE_USERNAME']='yoosuhyeon'\n",
        "os.environ['KAGGLE_KEY']='캐글키'"
      ],
      "metadata": {
        "id": "MarpCVCzRyyX"
      },
      "execution_count": 3,
      "outputs": []
    },
    {
      "cell_type": "code",
      "source": [
        "! rm *.* # 폴더안 모든 파일을 삭제하고 다시 파일을 받아옴\n",
        "! kaggle datasets download -d brainer3220/korean-real-estate-transaction-data\n",
        "! unzip '*zip'"
      ],
      "metadata": {
        "colab": {
          "base_uri": "https://localhost:8080/"
        },
        "id": "TD6soIhwT51e",
        "outputId": "66c57ee1-0d4e-4b37-bb0c-39720eb79589"
      },
      "execution_count": 4,
      "outputs": [
        {
          "output_type": "stream",
          "name": "stdout",
          "text": [
            "Downloading korean-real-estate-transaction-data.zip to /content\n",
            " 98% 49.0M/50.0M [00:00<00:00, 258MB/s]\n",
            "100% 50.0M/50.0M [00:00<00:00, 256MB/s]\n",
            "Archive:  korean-real-estate-transaction-data.zip\n",
            "  inflating: Apart Deal.csv          \n"
          ]
        }
      ]
    },
    {
      "cell_type": "code",
      "source": [
        "df = pd.read_csv('Apart Deal.csv')"
      ],
      "metadata": {
        "id": "D86uUBGbLciO"
      },
      "execution_count": 5,
      "outputs": []
    },
    {
      "cell_type": "code",
      "source": [
        "df.head()"
      ],
      "metadata": {
        "colab": {
          "base_uri": "https://localhost:8080/",
          "height": 206
        },
        "id": "9mj5GZHEDBcS",
        "outputId": "31c44142-d647-465b-d13b-d7d7cffb0ae2"
      },
      "execution_count": 6,
      "outputs": [
        {
          "output_type": "execute_result",
          "data": {
            "text/plain": [
              "    지역코드  법정동             거래일       아파트     지번      전용면적   층  건축년도   거래금액\n",
              "0  31110  학성동  5/30/2020 0:00    남운학성타운    379  135.5800   8  1991  26700\n",
              "1  31110  남외동   1/3/2020 0:00  남외푸르지오1차  506-1  101.6000   2  2006  35500\n",
              "2  31110  남외동   1/3/2020 0:00     에일린의뜰    500   84.9920  11  2007  36500\n",
              "3  31110  남외동   1/3/2020 0:00  남외푸르지오1차  506-1  118.7060   8  2006  43000\n",
              "4  31110  남외동   1/4/2020 0:00  남외푸르지오2차  501-1   84.9636   7  2007  38700"
            ],
            "text/html": [
              "\n",
              "  <div id=\"df-e26bab6a-a0e8-4b26-b0bd-ac40630d3141\">\n",
              "    <div class=\"colab-df-container\">\n",
              "      <div>\n",
              "<style scoped>\n",
              "    .dataframe tbody tr th:only-of-type {\n",
              "        vertical-align: middle;\n",
              "    }\n",
              "\n",
              "    .dataframe tbody tr th {\n",
              "        vertical-align: top;\n",
              "    }\n",
              "\n",
              "    .dataframe thead th {\n",
              "        text-align: right;\n",
              "    }\n",
              "</style>\n",
              "<table border=\"1\" class=\"dataframe\">\n",
              "  <thead>\n",
              "    <tr style=\"text-align: right;\">\n",
              "      <th></th>\n",
              "      <th>지역코드</th>\n",
              "      <th>법정동</th>\n",
              "      <th>거래일</th>\n",
              "      <th>아파트</th>\n",
              "      <th>지번</th>\n",
              "      <th>전용면적</th>\n",
              "      <th>층</th>\n",
              "      <th>건축년도</th>\n",
              "      <th>거래금액</th>\n",
              "    </tr>\n",
              "  </thead>\n",
              "  <tbody>\n",
              "    <tr>\n",
              "      <th>0</th>\n",
              "      <td>31110</td>\n",
              "      <td>학성동</td>\n",
              "      <td>5/30/2020 0:00</td>\n",
              "      <td>남운학성타운</td>\n",
              "      <td>379</td>\n",
              "      <td>135.5800</td>\n",
              "      <td>8</td>\n",
              "      <td>1991</td>\n",
              "      <td>26700</td>\n",
              "    </tr>\n",
              "    <tr>\n",
              "      <th>1</th>\n",
              "      <td>31110</td>\n",
              "      <td>남외동</td>\n",
              "      <td>1/3/2020 0:00</td>\n",
              "      <td>남외푸르지오1차</td>\n",
              "      <td>506-1</td>\n",
              "      <td>101.6000</td>\n",
              "      <td>2</td>\n",
              "      <td>2006</td>\n",
              "      <td>35500</td>\n",
              "    </tr>\n",
              "    <tr>\n",
              "      <th>2</th>\n",
              "      <td>31110</td>\n",
              "      <td>남외동</td>\n",
              "      <td>1/3/2020 0:00</td>\n",
              "      <td>에일린의뜰</td>\n",
              "      <td>500</td>\n",
              "      <td>84.9920</td>\n",
              "      <td>11</td>\n",
              "      <td>2007</td>\n",
              "      <td>36500</td>\n",
              "    </tr>\n",
              "    <tr>\n",
              "      <th>3</th>\n",
              "      <td>31110</td>\n",
              "      <td>남외동</td>\n",
              "      <td>1/3/2020 0:00</td>\n",
              "      <td>남외푸르지오1차</td>\n",
              "      <td>506-1</td>\n",
              "      <td>118.7060</td>\n",
              "      <td>8</td>\n",
              "      <td>2006</td>\n",
              "      <td>43000</td>\n",
              "    </tr>\n",
              "    <tr>\n",
              "      <th>4</th>\n",
              "      <td>31110</td>\n",
              "      <td>남외동</td>\n",
              "      <td>1/4/2020 0:00</td>\n",
              "      <td>남외푸르지오2차</td>\n",
              "      <td>501-1</td>\n",
              "      <td>84.9636</td>\n",
              "      <td>7</td>\n",
              "      <td>2007</td>\n",
              "      <td>38700</td>\n",
              "    </tr>\n",
              "  </tbody>\n",
              "</table>\n",
              "</div>\n",
              "      <button class=\"colab-df-convert\" onclick=\"convertToInteractive('df-e26bab6a-a0e8-4b26-b0bd-ac40630d3141')\"\n",
              "              title=\"Convert this dataframe to an interactive table.\"\n",
              "              style=\"display:none;\">\n",
              "        \n",
              "  <svg xmlns=\"http://www.w3.org/2000/svg\" height=\"24px\"viewBox=\"0 0 24 24\"\n",
              "       width=\"24px\">\n",
              "    <path d=\"M0 0h24v24H0V0z\" fill=\"none\"/>\n",
              "    <path d=\"M18.56 5.44l.94 2.06.94-2.06 2.06-.94-2.06-.94-.94-2.06-.94 2.06-2.06.94zm-11 1L8.5 8.5l.94-2.06 2.06-.94-2.06-.94L8.5 2.5l-.94 2.06-2.06.94zm10 10l.94 2.06.94-2.06 2.06-.94-2.06-.94-.94-2.06-.94 2.06-2.06.94z\"/><path d=\"M17.41 7.96l-1.37-1.37c-.4-.4-.92-.59-1.43-.59-.52 0-1.04.2-1.43.59L10.3 9.45l-7.72 7.72c-.78.78-.78 2.05 0 2.83L4 21.41c.39.39.9.59 1.41.59.51 0 1.02-.2 1.41-.59l7.78-7.78 2.81-2.81c.8-.78.8-2.07 0-2.86zM5.41 20L4 18.59l7.72-7.72 1.47 1.35L5.41 20z\"/>\n",
              "  </svg>\n",
              "      </button>\n",
              "      \n",
              "  <style>\n",
              "    .colab-df-container {\n",
              "      display:flex;\n",
              "      flex-wrap:wrap;\n",
              "      gap: 12px;\n",
              "    }\n",
              "\n",
              "    .colab-df-convert {\n",
              "      background-color: #E8F0FE;\n",
              "      border: none;\n",
              "      border-radius: 50%;\n",
              "      cursor: pointer;\n",
              "      display: none;\n",
              "      fill: #1967D2;\n",
              "      height: 32px;\n",
              "      padding: 0 0 0 0;\n",
              "      width: 32px;\n",
              "    }\n",
              "\n",
              "    .colab-df-convert:hover {\n",
              "      background-color: #E2EBFA;\n",
              "      box-shadow: 0px 1px 2px rgba(60, 64, 67, 0.3), 0px 1px 3px 1px rgba(60, 64, 67, 0.15);\n",
              "      fill: #174EA6;\n",
              "    }\n",
              "\n",
              "    [theme=dark] .colab-df-convert {\n",
              "      background-color: #3B4455;\n",
              "      fill: #D2E3FC;\n",
              "    }\n",
              "\n",
              "    [theme=dark] .colab-df-convert:hover {\n",
              "      background-color: #434B5C;\n",
              "      box-shadow: 0px 1px 3px 1px rgba(0, 0, 0, 0.15);\n",
              "      filter: drop-shadow(0px 1px 2px rgba(0, 0, 0, 0.3));\n",
              "      fill: #FFFFFF;\n",
              "    }\n",
              "  </style>\n",
              "\n",
              "      <script>\n",
              "        const buttonEl =\n",
              "          document.querySelector('#df-e26bab6a-a0e8-4b26-b0bd-ac40630d3141 button.colab-df-convert');\n",
              "        buttonEl.style.display =\n",
              "          google.colab.kernel.accessAllowed ? 'block' : 'none';\n",
              "\n",
              "        async function convertToInteractive(key) {\n",
              "          const element = document.querySelector('#df-e26bab6a-a0e8-4b26-b0bd-ac40630d3141');\n",
              "          const dataTable =\n",
              "            await google.colab.kernel.invokeFunction('convertToInteractive',\n",
              "                                                     [key], {});\n",
              "          if (!dataTable) return;\n",
              "\n",
              "          const docLinkHtml = 'Like what you see? Visit the ' +\n",
              "            '<a target=\"_blank\" href=https://colab.research.google.com/notebooks/data_table.ipynb>data table notebook</a>'\n",
              "            + ' to learn more about interactive tables.';\n",
              "          element.innerHTML = '';\n",
              "          dataTable['output_type'] = 'display_data';\n",
              "          await google.colab.output.renderOutput(dataTable, element);\n",
              "          const docLink = document.createElement('div');\n",
              "          docLink.innerHTML = docLinkHtml;\n",
              "          element.appendChild(docLink);\n",
              "        }\n",
              "      </script>\n",
              "    </div>\n",
              "  </div>\n",
              "  "
            ]
          },
          "metadata": {},
          "execution_count": 6
        }
      ]
    },
    {
      "cell_type": "code",
      "source": [
        "df.shape"
      ],
      "metadata": {
        "colab": {
          "base_uri": "https://localhost:8080/"
        },
        "id": "g3SidfwMJKGW",
        "outputId": "fbe6b1bc-a1d3-41b2-a02f-2ae31e45d5dc"
      },
      "execution_count": 7,
      "outputs": [
        {
          "output_type": "execute_result",
          "data": {
            "text/plain": [
              "(4348786, 9)"
            ]
          },
          "metadata": {},
          "execution_count": 7
        }
      ]
    },
    {
      "cell_type": "code",
      "source": [
        "df.info()"
      ],
      "metadata": {
        "colab": {
          "base_uri": "https://localhost:8080/"
        },
        "id": "Hl3g1xxnJLyV",
        "outputId": "2e537537-ee6e-4984-e220-18e84e0f7af5"
      },
      "execution_count": 8,
      "outputs": [
        {
          "output_type": "stream",
          "name": "stdout",
          "text": [
            "<class 'pandas.core.frame.DataFrame'>\n",
            "RangeIndex: 4348786 entries, 0 to 4348785\n",
            "Data columns (total 9 columns):\n",
            " #   Column  Dtype  \n",
            "---  ------  -----  \n",
            " 0   지역코드    int64  \n",
            " 1   법정동     object \n",
            " 2   거래일     object \n",
            " 3   아파트     object \n",
            " 4   지번      object \n",
            " 5   전용면적    float64\n",
            " 6   층       object \n",
            " 7   건축년도    int64  \n",
            " 8   거래금액    object \n",
            "dtypes: float64(1), int64(2), object(6)\n",
            "memory usage: 298.6+ MB\n"
          ]
        }
      ]
    },
    {
      "cell_type": "markdown",
      "source": [
        "## 3. 데이터 정제"
      ],
      "metadata": {
        "id": "mbdCNKDhy_Mn"
      }
    },
    {
      "cell_type": "markdown",
      "source": [
        "겹치는 법정동이 있으므로 이를 지역코드로 구분해보도록 하자. 지역코드는  https://blog.naver.com/PostView.nhn?blogId=lugenzhe&logNo=90146389643 를 참조하여 csv파일로 따로 만들었다."
      ],
      "metadata": {
        "id": "uUNQlNiWQsS4"
      }
    },
    {
      "cell_type": "code",
      "source": [
        "region = pd.read_csv('/content/drive/MyDrive/캐글 개인프로젝트/지역코드.csv',encoding='cp949')\n",
        "region.head()"
      ],
      "metadata": {
        "id": "YDdmh04R4zDb",
        "colab": {
          "base_uri": "https://localhost:8080/",
          "height": 206
        },
        "outputId": "11a4729a-f881-4c99-a7d9-087812cb9eca"
      },
      "execution_count": 9,
      "outputs": [
        {
          "output_type": "execute_result",
          "data": {
            "text/plain": [
              "   지역    구   지역코드\n",
              "0  서울  강남구  11680\n",
              "1  서울  강동구  11740\n",
              "2  서울  강북구  11305\n",
              "3  서울  강서구  11500\n",
              "4  서울  관악구  11620"
            ],
            "text/html": [
              "\n",
              "  <div id=\"df-d8e3862b-ed61-45a9-98ce-b334cee73218\">\n",
              "    <div class=\"colab-df-container\">\n",
              "      <div>\n",
              "<style scoped>\n",
              "    .dataframe tbody tr th:only-of-type {\n",
              "        vertical-align: middle;\n",
              "    }\n",
              "\n",
              "    .dataframe tbody tr th {\n",
              "        vertical-align: top;\n",
              "    }\n",
              "\n",
              "    .dataframe thead th {\n",
              "        text-align: right;\n",
              "    }\n",
              "</style>\n",
              "<table border=\"1\" class=\"dataframe\">\n",
              "  <thead>\n",
              "    <tr style=\"text-align: right;\">\n",
              "      <th></th>\n",
              "      <th>지역</th>\n",
              "      <th>구</th>\n",
              "      <th>지역코드</th>\n",
              "    </tr>\n",
              "  </thead>\n",
              "  <tbody>\n",
              "    <tr>\n",
              "      <th>0</th>\n",
              "      <td>서울</td>\n",
              "      <td>강남구</td>\n",
              "      <td>11680</td>\n",
              "    </tr>\n",
              "    <tr>\n",
              "      <th>1</th>\n",
              "      <td>서울</td>\n",
              "      <td>강동구</td>\n",
              "      <td>11740</td>\n",
              "    </tr>\n",
              "    <tr>\n",
              "      <th>2</th>\n",
              "      <td>서울</td>\n",
              "      <td>강북구</td>\n",
              "      <td>11305</td>\n",
              "    </tr>\n",
              "    <tr>\n",
              "      <th>3</th>\n",
              "      <td>서울</td>\n",
              "      <td>강서구</td>\n",
              "      <td>11500</td>\n",
              "    </tr>\n",
              "    <tr>\n",
              "      <th>4</th>\n",
              "      <td>서울</td>\n",
              "      <td>관악구</td>\n",
              "      <td>11620</td>\n",
              "    </tr>\n",
              "  </tbody>\n",
              "</table>\n",
              "</div>\n",
              "      <button class=\"colab-df-convert\" onclick=\"convertToInteractive('df-d8e3862b-ed61-45a9-98ce-b334cee73218')\"\n",
              "              title=\"Convert this dataframe to an interactive table.\"\n",
              "              style=\"display:none;\">\n",
              "        \n",
              "  <svg xmlns=\"http://www.w3.org/2000/svg\" height=\"24px\"viewBox=\"0 0 24 24\"\n",
              "       width=\"24px\">\n",
              "    <path d=\"M0 0h24v24H0V0z\" fill=\"none\"/>\n",
              "    <path d=\"M18.56 5.44l.94 2.06.94-2.06 2.06-.94-2.06-.94-.94-2.06-.94 2.06-2.06.94zm-11 1L8.5 8.5l.94-2.06 2.06-.94-2.06-.94L8.5 2.5l-.94 2.06-2.06.94zm10 10l.94 2.06.94-2.06 2.06-.94-2.06-.94-.94-2.06-.94 2.06-2.06.94z\"/><path d=\"M17.41 7.96l-1.37-1.37c-.4-.4-.92-.59-1.43-.59-.52 0-1.04.2-1.43.59L10.3 9.45l-7.72 7.72c-.78.78-.78 2.05 0 2.83L4 21.41c.39.39.9.59 1.41.59.51 0 1.02-.2 1.41-.59l7.78-7.78 2.81-2.81c.8-.78.8-2.07 0-2.86zM5.41 20L4 18.59l7.72-7.72 1.47 1.35L5.41 20z\"/>\n",
              "  </svg>\n",
              "      </button>\n",
              "      \n",
              "  <style>\n",
              "    .colab-df-container {\n",
              "      display:flex;\n",
              "      flex-wrap:wrap;\n",
              "      gap: 12px;\n",
              "    }\n",
              "\n",
              "    .colab-df-convert {\n",
              "      background-color: #E8F0FE;\n",
              "      border: none;\n",
              "      border-radius: 50%;\n",
              "      cursor: pointer;\n",
              "      display: none;\n",
              "      fill: #1967D2;\n",
              "      height: 32px;\n",
              "      padding: 0 0 0 0;\n",
              "      width: 32px;\n",
              "    }\n",
              "\n",
              "    .colab-df-convert:hover {\n",
              "      background-color: #E2EBFA;\n",
              "      box-shadow: 0px 1px 2px rgba(60, 64, 67, 0.3), 0px 1px 3px 1px rgba(60, 64, 67, 0.15);\n",
              "      fill: #174EA6;\n",
              "    }\n",
              "\n",
              "    [theme=dark] .colab-df-convert {\n",
              "      background-color: #3B4455;\n",
              "      fill: #D2E3FC;\n",
              "    }\n",
              "\n",
              "    [theme=dark] .colab-df-convert:hover {\n",
              "      background-color: #434B5C;\n",
              "      box-shadow: 0px 1px 3px 1px rgba(0, 0, 0, 0.15);\n",
              "      filter: drop-shadow(0px 1px 2px rgba(0, 0, 0, 0.3));\n",
              "      fill: #FFFFFF;\n",
              "    }\n",
              "  </style>\n",
              "\n",
              "      <script>\n",
              "        const buttonEl =\n",
              "          document.querySelector('#df-d8e3862b-ed61-45a9-98ce-b334cee73218 button.colab-df-convert');\n",
              "        buttonEl.style.display =\n",
              "          google.colab.kernel.accessAllowed ? 'block' : 'none';\n",
              "\n",
              "        async function convertToInteractive(key) {\n",
              "          const element = document.querySelector('#df-d8e3862b-ed61-45a9-98ce-b334cee73218');\n",
              "          const dataTable =\n",
              "            await google.colab.kernel.invokeFunction('convertToInteractive',\n",
              "                                                     [key], {});\n",
              "          if (!dataTable) return;\n",
              "\n",
              "          const docLinkHtml = 'Like what you see? Visit the ' +\n",
              "            '<a target=\"_blank\" href=https://colab.research.google.com/notebooks/data_table.ipynb>data table notebook</a>'\n",
              "            + ' to learn more about interactive tables.';\n",
              "          element.innerHTML = '';\n",
              "          dataTable['output_type'] = 'display_data';\n",
              "          await google.colab.output.renderOutput(dataTable, element);\n",
              "          const docLink = document.createElement('div');\n",
              "          docLink.innerHTML = docLinkHtml;\n",
              "          element.appendChild(docLink);\n",
              "        }\n",
              "      </script>\n",
              "    </div>\n",
              "  </div>\n",
              "  "
            ]
          },
          "metadata": {},
          "execution_count": 9
        }
      ]
    },
    {
      "cell_type": "markdown",
      "source": [
        "다음 df와 region을 inner join 해준다."
      ],
      "metadata": {
        "id": "WmjZM0-kRLWM"
      }
    },
    {
      "cell_type": "code",
      "source": [
        "df = pd.merge(df, region, left_on='지역코드', right_on='지역코드', how='inner')"
      ],
      "metadata": {
        "id": "pA4Rqxd6I-tj"
      },
      "execution_count": 10,
      "outputs": []
    },
    {
      "cell_type": "code",
      "source": [
        "df"
      ],
      "metadata": {
        "colab": {
          "base_uri": "https://localhost:8080/",
          "height": 424
        },
        "id": "k1WVDj1tJFQM",
        "outputId": "133d3be7-718f-4c39-f1de-2f006e5d8e6c"
      },
      "execution_count": 11,
      "outputs": [
        {
          "output_type": "execute_result",
          "data": {
            "text/plain": [
              "          지역코드      법정동                  거래일       아파트      지번      전용면적   층  \\\n",
              "0        31110      학성동       5/30/2020 0:00    남운학성타운     379  135.5800   8   \n",
              "1        31110      남외동        1/3/2020 0:00  남외푸르지오1차   506-1  101.6000   2   \n",
              "2        31110      남외동        1/3/2020 0:00     에일린의뜰     500   84.9920  11   \n",
              "3        31110      남외동        1/3/2020 0:00  남외푸르지오1차   506-1  118.7060   8   \n",
              "4        31110      남외동        1/4/2020 0:00  남외푸르지오2차   501-1   84.9636   7   \n",
              "...        ...      ...                  ...       ...     ...       ...  ..   \n",
              "4348781  30230      석봉동  2021-04-03 00:00:00   금강엑슬루타워     770  103.2750   3   \n",
              "4348782  30230      신일동  2021-04-01 00:00:00        한라  1682-4   49.8600   4   \n",
              "4348783  46910  지도읍 읍내리  2017-01-26 00:00:00        대동  299-17   84.0900   5   \n",
              "4348784  46910  지도읍 읍내리  2015-04-07 00:00:00        대동  299-17   84.0900   5   \n",
              "4348785  46910  지도읍 읍내리  2015-07-15 00:00:00        대동  299-17   84.0900   2   \n",
              "\n",
              "         건축년도   거래금액  지역    구  \n",
              "0        1991  26700  울산   중구  \n",
              "1        2006  35500  울산   중구  \n",
              "2        2007  36500  울산   중구  \n",
              "3        2006  43000  울산   중구  \n",
              "4        2007  38700  울산   중구  \n",
              "...       ...    ...  ..  ...  \n",
              "4348781  2012  44700  대전  대덕구  \n",
              "4348782  1996   9200  대전  대덕구  \n",
              "4348783  1992   2400  전남  신안군  \n",
              "4348784  1992   3000  전남  신안군  \n",
              "4348785  1992   5000  전남  신안군  \n",
              "\n",
              "[4348786 rows x 11 columns]"
            ],
            "text/html": [
              "\n",
              "  <div id=\"df-a935a2e4-6f77-4444-a158-cdeaeedb1439\">\n",
              "    <div class=\"colab-df-container\">\n",
              "      <div>\n",
              "<style scoped>\n",
              "    .dataframe tbody tr th:only-of-type {\n",
              "        vertical-align: middle;\n",
              "    }\n",
              "\n",
              "    .dataframe tbody tr th {\n",
              "        vertical-align: top;\n",
              "    }\n",
              "\n",
              "    .dataframe thead th {\n",
              "        text-align: right;\n",
              "    }\n",
              "</style>\n",
              "<table border=\"1\" class=\"dataframe\">\n",
              "  <thead>\n",
              "    <tr style=\"text-align: right;\">\n",
              "      <th></th>\n",
              "      <th>지역코드</th>\n",
              "      <th>법정동</th>\n",
              "      <th>거래일</th>\n",
              "      <th>아파트</th>\n",
              "      <th>지번</th>\n",
              "      <th>전용면적</th>\n",
              "      <th>층</th>\n",
              "      <th>건축년도</th>\n",
              "      <th>거래금액</th>\n",
              "      <th>지역</th>\n",
              "      <th>구</th>\n",
              "    </tr>\n",
              "  </thead>\n",
              "  <tbody>\n",
              "    <tr>\n",
              "      <th>0</th>\n",
              "      <td>31110</td>\n",
              "      <td>학성동</td>\n",
              "      <td>5/30/2020 0:00</td>\n",
              "      <td>남운학성타운</td>\n",
              "      <td>379</td>\n",
              "      <td>135.5800</td>\n",
              "      <td>8</td>\n",
              "      <td>1991</td>\n",
              "      <td>26700</td>\n",
              "      <td>울산</td>\n",
              "      <td>중구</td>\n",
              "    </tr>\n",
              "    <tr>\n",
              "      <th>1</th>\n",
              "      <td>31110</td>\n",
              "      <td>남외동</td>\n",
              "      <td>1/3/2020 0:00</td>\n",
              "      <td>남외푸르지오1차</td>\n",
              "      <td>506-1</td>\n",
              "      <td>101.6000</td>\n",
              "      <td>2</td>\n",
              "      <td>2006</td>\n",
              "      <td>35500</td>\n",
              "      <td>울산</td>\n",
              "      <td>중구</td>\n",
              "    </tr>\n",
              "    <tr>\n",
              "      <th>2</th>\n",
              "      <td>31110</td>\n",
              "      <td>남외동</td>\n",
              "      <td>1/3/2020 0:00</td>\n",
              "      <td>에일린의뜰</td>\n",
              "      <td>500</td>\n",
              "      <td>84.9920</td>\n",
              "      <td>11</td>\n",
              "      <td>2007</td>\n",
              "      <td>36500</td>\n",
              "      <td>울산</td>\n",
              "      <td>중구</td>\n",
              "    </tr>\n",
              "    <tr>\n",
              "      <th>3</th>\n",
              "      <td>31110</td>\n",
              "      <td>남외동</td>\n",
              "      <td>1/3/2020 0:00</td>\n",
              "      <td>남외푸르지오1차</td>\n",
              "      <td>506-1</td>\n",
              "      <td>118.7060</td>\n",
              "      <td>8</td>\n",
              "      <td>2006</td>\n",
              "      <td>43000</td>\n",
              "      <td>울산</td>\n",
              "      <td>중구</td>\n",
              "    </tr>\n",
              "    <tr>\n",
              "      <th>4</th>\n",
              "      <td>31110</td>\n",
              "      <td>남외동</td>\n",
              "      <td>1/4/2020 0:00</td>\n",
              "      <td>남외푸르지오2차</td>\n",
              "      <td>501-1</td>\n",
              "      <td>84.9636</td>\n",
              "      <td>7</td>\n",
              "      <td>2007</td>\n",
              "      <td>38700</td>\n",
              "      <td>울산</td>\n",
              "      <td>중구</td>\n",
              "    </tr>\n",
              "    <tr>\n",
              "      <th>...</th>\n",
              "      <td>...</td>\n",
              "      <td>...</td>\n",
              "      <td>...</td>\n",
              "      <td>...</td>\n",
              "      <td>...</td>\n",
              "      <td>...</td>\n",
              "      <td>...</td>\n",
              "      <td>...</td>\n",
              "      <td>...</td>\n",
              "      <td>...</td>\n",
              "      <td>...</td>\n",
              "    </tr>\n",
              "    <tr>\n",
              "      <th>4348781</th>\n",
              "      <td>30230</td>\n",
              "      <td>석봉동</td>\n",
              "      <td>2021-04-03 00:00:00</td>\n",
              "      <td>금강엑슬루타워</td>\n",
              "      <td>770</td>\n",
              "      <td>103.2750</td>\n",
              "      <td>3</td>\n",
              "      <td>2012</td>\n",
              "      <td>44700</td>\n",
              "      <td>대전</td>\n",
              "      <td>대덕구</td>\n",
              "    </tr>\n",
              "    <tr>\n",
              "      <th>4348782</th>\n",
              "      <td>30230</td>\n",
              "      <td>신일동</td>\n",
              "      <td>2021-04-01 00:00:00</td>\n",
              "      <td>한라</td>\n",
              "      <td>1682-4</td>\n",
              "      <td>49.8600</td>\n",
              "      <td>4</td>\n",
              "      <td>1996</td>\n",
              "      <td>9200</td>\n",
              "      <td>대전</td>\n",
              "      <td>대덕구</td>\n",
              "    </tr>\n",
              "    <tr>\n",
              "      <th>4348783</th>\n",
              "      <td>46910</td>\n",
              "      <td>지도읍 읍내리</td>\n",
              "      <td>2017-01-26 00:00:00</td>\n",
              "      <td>대동</td>\n",
              "      <td>299-17</td>\n",
              "      <td>84.0900</td>\n",
              "      <td>5</td>\n",
              "      <td>1992</td>\n",
              "      <td>2400</td>\n",
              "      <td>전남</td>\n",
              "      <td>신안군</td>\n",
              "    </tr>\n",
              "    <tr>\n",
              "      <th>4348784</th>\n",
              "      <td>46910</td>\n",
              "      <td>지도읍 읍내리</td>\n",
              "      <td>2015-04-07 00:00:00</td>\n",
              "      <td>대동</td>\n",
              "      <td>299-17</td>\n",
              "      <td>84.0900</td>\n",
              "      <td>5</td>\n",
              "      <td>1992</td>\n",
              "      <td>3000</td>\n",
              "      <td>전남</td>\n",
              "      <td>신안군</td>\n",
              "    </tr>\n",
              "    <tr>\n",
              "      <th>4348785</th>\n",
              "      <td>46910</td>\n",
              "      <td>지도읍 읍내리</td>\n",
              "      <td>2015-07-15 00:00:00</td>\n",
              "      <td>대동</td>\n",
              "      <td>299-17</td>\n",
              "      <td>84.0900</td>\n",
              "      <td>2</td>\n",
              "      <td>1992</td>\n",
              "      <td>5000</td>\n",
              "      <td>전남</td>\n",
              "      <td>신안군</td>\n",
              "    </tr>\n",
              "  </tbody>\n",
              "</table>\n",
              "<p>4348786 rows × 11 columns</p>\n",
              "</div>\n",
              "      <button class=\"colab-df-convert\" onclick=\"convertToInteractive('df-a935a2e4-6f77-4444-a158-cdeaeedb1439')\"\n",
              "              title=\"Convert this dataframe to an interactive table.\"\n",
              "              style=\"display:none;\">\n",
              "        \n",
              "  <svg xmlns=\"http://www.w3.org/2000/svg\" height=\"24px\"viewBox=\"0 0 24 24\"\n",
              "       width=\"24px\">\n",
              "    <path d=\"M0 0h24v24H0V0z\" fill=\"none\"/>\n",
              "    <path d=\"M18.56 5.44l.94 2.06.94-2.06 2.06-.94-2.06-.94-.94-2.06-.94 2.06-2.06.94zm-11 1L8.5 8.5l.94-2.06 2.06-.94-2.06-.94L8.5 2.5l-.94 2.06-2.06.94zm10 10l.94 2.06.94-2.06 2.06-.94-2.06-.94-.94-2.06-.94 2.06-2.06.94z\"/><path d=\"M17.41 7.96l-1.37-1.37c-.4-.4-.92-.59-1.43-.59-.52 0-1.04.2-1.43.59L10.3 9.45l-7.72 7.72c-.78.78-.78 2.05 0 2.83L4 21.41c.39.39.9.59 1.41.59.51 0 1.02-.2 1.41-.59l7.78-7.78 2.81-2.81c.8-.78.8-2.07 0-2.86zM5.41 20L4 18.59l7.72-7.72 1.47 1.35L5.41 20z\"/>\n",
              "  </svg>\n",
              "      </button>\n",
              "      \n",
              "  <style>\n",
              "    .colab-df-container {\n",
              "      display:flex;\n",
              "      flex-wrap:wrap;\n",
              "      gap: 12px;\n",
              "    }\n",
              "\n",
              "    .colab-df-convert {\n",
              "      background-color: #E8F0FE;\n",
              "      border: none;\n",
              "      border-radius: 50%;\n",
              "      cursor: pointer;\n",
              "      display: none;\n",
              "      fill: #1967D2;\n",
              "      height: 32px;\n",
              "      padding: 0 0 0 0;\n",
              "      width: 32px;\n",
              "    }\n",
              "\n",
              "    .colab-df-convert:hover {\n",
              "      background-color: #E2EBFA;\n",
              "      box-shadow: 0px 1px 2px rgba(60, 64, 67, 0.3), 0px 1px 3px 1px rgba(60, 64, 67, 0.15);\n",
              "      fill: #174EA6;\n",
              "    }\n",
              "\n",
              "    [theme=dark] .colab-df-convert {\n",
              "      background-color: #3B4455;\n",
              "      fill: #D2E3FC;\n",
              "    }\n",
              "\n",
              "    [theme=dark] .colab-df-convert:hover {\n",
              "      background-color: #434B5C;\n",
              "      box-shadow: 0px 1px 3px 1px rgba(0, 0, 0, 0.15);\n",
              "      filter: drop-shadow(0px 1px 2px rgba(0, 0, 0, 0.3));\n",
              "      fill: #FFFFFF;\n",
              "    }\n",
              "  </style>\n",
              "\n",
              "      <script>\n",
              "        const buttonEl =\n",
              "          document.querySelector('#df-a935a2e4-6f77-4444-a158-cdeaeedb1439 button.colab-df-convert');\n",
              "        buttonEl.style.display =\n",
              "          google.colab.kernel.accessAllowed ? 'block' : 'none';\n",
              "\n",
              "        async function convertToInteractive(key) {\n",
              "          const element = document.querySelector('#df-a935a2e4-6f77-4444-a158-cdeaeedb1439');\n",
              "          const dataTable =\n",
              "            await google.colab.kernel.invokeFunction('convertToInteractive',\n",
              "                                                     [key], {});\n",
              "          if (!dataTable) return;\n",
              "\n",
              "          const docLinkHtml = 'Like what you see? Visit the ' +\n",
              "            '<a target=\"_blank\" href=https://colab.research.google.com/notebooks/data_table.ipynb>data table notebook</a>'\n",
              "            + ' to learn more about interactive tables.';\n",
              "          element.innerHTML = '';\n",
              "          dataTable['output_type'] = 'display_data';\n",
              "          await google.colab.output.renderOutput(dataTable, element);\n",
              "          const docLink = document.createElement('div');\n",
              "          docLink.innerHTML = docLinkHtml;\n",
              "          element.appendChild(docLink);\n",
              "        }\n",
              "      </script>\n",
              "    </div>\n",
              "  </div>\n",
              "  "
            ]
          },
          "metadata": {},
          "execution_count": 11
        }
      ]
    },
    {
      "cell_type": "code",
      "source": [
        "df.isna().sum()"
      ],
      "metadata": {
        "colab": {
          "base_uri": "https://localhost:8080/"
        },
        "id": "mBXoSIJzJOsF",
        "outputId": "9518cacf-5ea1-4c33-c699-e44170079439"
      },
      "execution_count": 12,
      "outputs": [
        {
          "output_type": "execute_result",
          "data": {
            "text/plain": [
              "지역코드      0\n",
              "법정동       0\n",
              "거래일       0\n",
              "아파트       0\n",
              "지번      418\n",
              "전용면적      0\n",
              "층         0\n",
              "건축년도      0\n",
              "거래금액      0\n",
              "지역        0\n",
              "구         0\n",
              "dtype: int64"
            ]
          },
          "metadata": {},
          "execution_count": 12
        }
      ]
    },
    {
      "cell_type": "markdown",
      "source": [
        "지번이 기재되지 않은 아파트가 있다."
      ],
      "metadata": {
        "id": "LRvhVbpFX_o1"
      }
    },
    {
      "cell_type": "code",
      "source": [
        "df[df['지번'].isna()]"
      ],
      "metadata": {
        "colab": {
          "base_uri": "https://localhost:8080/",
          "height": 424
        },
        "id": "sUvcjtTcYpcx",
        "outputId": "f2fb2c20-52e2-4d06-8809-49f2b40ac3f2"
      },
      "execution_count": 13,
      "outputs": [
        {
          "output_type": "execute_result",
          "data": {
            "text/plain": [
              "          지역코드      법정동                  거래일    아파트   지번     전용면적   층  건축년도  \\\n",
              "1314206  41590  남양읍 남양리        2/5/2020 0:00   동광뷰엘  NaN  80.0082  27  2018   \n",
              "1314209  41590  남양읍 남양리        2/8/2020 0:00   동광뷰엘  NaN  80.0082   4  2018   \n",
              "1314211  41590  남양읍 남양리        2/9/2020 0:00   동광뷰엘  NaN  80.0082  20  2018   \n",
              "1314218  41590  남양읍 남양리       2/14/2020 0:00   동광뷰엘  NaN  82.3822  16  2018   \n",
              "1314240  41590  남양읍 남양리       2/23/2020 0:00   동광뷰엘  NaN  80.0082  33  2018   \n",
              "...        ...      ...                  ...    ...  ...      ...  ..   ...   \n",
              "3307852  11680      자곡동  2015-08-20 00:00:00  래미안포레  NaN  84.9900   8  2014   \n",
              "3308380  11680      자곡동  2015-09-23 00:00:00  래미안포레  NaN  84.9900   4  2014   \n",
              "3309057  11680      자곡동  2015-10-07 00:00:00  래미안포레  NaN  84.9900   7  2014   \n",
              "3309058  11680      자곡동  2015-10-26 00:00:00  래미안포레  NaN  84.9900   8  2014   \n",
              "3309892  11680      자곡동  2015-12-31 00:00:00  래미안포레  NaN  84.9900  10  2014   \n",
              "\n",
              "          거래금액  지역    구  \n",
              "1314206  30700  경기  화성시  \n",
              "1314209  29400  경기  화성시  \n",
              "1314211  31500  경기  화성시  \n",
              "1314218  29500  경기  화성시  \n",
              "1314240  32000  경기  화성시  \n",
              "...        ...  ..  ...  \n",
              "3307852  72000  서울  강남구  \n",
              "3308380  69500  서울  강남구  \n",
              "3309057  77500  서울  강남구  \n",
              "3309058  75000  서울  강남구  \n",
              "3309892  46500  서울  강남구  \n",
              "\n",
              "[418 rows x 11 columns]"
            ],
            "text/html": [
              "\n",
              "  <div id=\"df-ee3f7ea0-2260-4b2d-b06a-ba4220a915aa\">\n",
              "    <div class=\"colab-df-container\">\n",
              "      <div>\n",
              "<style scoped>\n",
              "    .dataframe tbody tr th:only-of-type {\n",
              "        vertical-align: middle;\n",
              "    }\n",
              "\n",
              "    .dataframe tbody tr th {\n",
              "        vertical-align: top;\n",
              "    }\n",
              "\n",
              "    .dataframe thead th {\n",
              "        text-align: right;\n",
              "    }\n",
              "</style>\n",
              "<table border=\"1\" class=\"dataframe\">\n",
              "  <thead>\n",
              "    <tr style=\"text-align: right;\">\n",
              "      <th></th>\n",
              "      <th>지역코드</th>\n",
              "      <th>법정동</th>\n",
              "      <th>거래일</th>\n",
              "      <th>아파트</th>\n",
              "      <th>지번</th>\n",
              "      <th>전용면적</th>\n",
              "      <th>층</th>\n",
              "      <th>건축년도</th>\n",
              "      <th>거래금액</th>\n",
              "      <th>지역</th>\n",
              "      <th>구</th>\n",
              "    </tr>\n",
              "  </thead>\n",
              "  <tbody>\n",
              "    <tr>\n",
              "      <th>1314206</th>\n",
              "      <td>41590</td>\n",
              "      <td>남양읍 남양리</td>\n",
              "      <td>2/5/2020 0:00</td>\n",
              "      <td>동광뷰엘</td>\n",
              "      <td>NaN</td>\n",
              "      <td>80.0082</td>\n",
              "      <td>27</td>\n",
              "      <td>2018</td>\n",
              "      <td>30700</td>\n",
              "      <td>경기</td>\n",
              "      <td>화성시</td>\n",
              "    </tr>\n",
              "    <tr>\n",
              "      <th>1314209</th>\n",
              "      <td>41590</td>\n",
              "      <td>남양읍 남양리</td>\n",
              "      <td>2/8/2020 0:00</td>\n",
              "      <td>동광뷰엘</td>\n",
              "      <td>NaN</td>\n",
              "      <td>80.0082</td>\n",
              "      <td>4</td>\n",
              "      <td>2018</td>\n",
              "      <td>29400</td>\n",
              "      <td>경기</td>\n",
              "      <td>화성시</td>\n",
              "    </tr>\n",
              "    <tr>\n",
              "      <th>1314211</th>\n",
              "      <td>41590</td>\n",
              "      <td>남양읍 남양리</td>\n",
              "      <td>2/9/2020 0:00</td>\n",
              "      <td>동광뷰엘</td>\n",
              "      <td>NaN</td>\n",
              "      <td>80.0082</td>\n",
              "      <td>20</td>\n",
              "      <td>2018</td>\n",
              "      <td>31500</td>\n",
              "      <td>경기</td>\n",
              "      <td>화성시</td>\n",
              "    </tr>\n",
              "    <tr>\n",
              "      <th>1314218</th>\n",
              "      <td>41590</td>\n",
              "      <td>남양읍 남양리</td>\n",
              "      <td>2/14/2020 0:00</td>\n",
              "      <td>동광뷰엘</td>\n",
              "      <td>NaN</td>\n",
              "      <td>82.3822</td>\n",
              "      <td>16</td>\n",
              "      <td>2018</td>\n",
              "      <td>29500</td>\n",
              "      <td>경기</td>\n",
              "      <td>화성시</td>\n",
              "    </tr>\n",
              "    <tr>\n",
              "      <th>1314240</th>\n",
              "      <td>41590</td>\n",
              "      <td>남양읍 남양리</td>\n",
              "      <td>2/23/2020 0:00</td>\n",
              "      <td>동광뷰엘</td>\n",
              "      <td>NaN</td>\n",
              "      <td>80.0082</td>\n",
              "      <td>33</td>\n",
              "      <td>2018</td>\n",
              "      <td>32000</td>\n",
              "      <td>경기</td>\n",
              "      <td>화성시</td>\n",
              "    </tr>\n",
              "    <tr>\n",
              "      <th>...</th>\n",
              "      <td>...</td>\n",
              "      <td>...</td>\n",
              "      <td>...</td>\n",
              "      <td>...</td>\n",
              "      <td>...</td>\n",
              "      <td>...</td>\n",
              "      <td>...</td>\n",
              "      <td>...</td>\n",
              "      <td>...</td>\n",
              "      <td>...</td>\n",
              "      <td>...</td>\n",
              "    </tr>\n",
              "    <tr>\n",
              "      <th>3307852</th>\n",
              "      <td>11680</td>\n",
              "      <td>자곡동</td>\n",
              "      <td>2015-08-20 00:00:00</td>\n",
              "      <td>래미안포레</td>\n",
              "      <td>NaN</td>\n",
              "      <td>84.9900</td>\n",
              "      <td>8</td>\n",
              "      <td>2014</td>\n",
              "      <td>72000</td>\n",
              "      <td>서울</td>\n",
              "      <td>강남구</td>\n",
              "    </tr>\n",
              "    <tr>\n",
              "      <th>3308380</th>\n",
              "      <td>11680</td>\n",
              "      <td>자곡동</td>\n",
              "      <td>2015-09-23 00:00:00</td>\n",
              "      <td>래미안포레</td>\n",
              "      <td>NaN</td>\n",
              "      <td>84.9900</td>\n",
              "      <td>4</td>\n",
              "      <td>2014</td>\n",
              "      <td>69500</td>\n",
              "      <td>서울</td>\n",
              "      <td>강남구</td>\n",
              "    </tr>\n",
              "    <tr>\n",
              "      <th>3309057</th>\n",
              "      <td>11680</td>\n",
              "      <td>자곡동</td>\n",
              "      <td>2015-10-07 00:00:00</td>\n",
              "      <td>래미안포레</td>\n",
              "      <td>NaN</td>\n",
              "      <td>84.9900</td>\n",
              "      <td>7</td>\n",
              "      <td>2014</td>\n",
              "      <td>77500</td>\n",
              "      <td>서울</td>\n",
              "      <td>강남구</td>\n",
              "    </tr>\n",
              "    <tr>\n",
              "      <th>3309058</th>\n",
              "      <td>11680</td>\n",
              "      <td>자곡동</td>\n",
              "      <td>2015-10-26 00:00:00</td>\n",
              "      <td>래미안포레</td>\n",
              "      <td>NaN</td>\n",
              "      <td>84.9900</td>\n",
              "      <td>8</td>\n",
              "      <td>2014</td>\n",
              "      <td>75000</td>\n",
              "      <td>서울</td>\n",
              "      <td>강남구</td>\n",
              "    </tr>\n",
              "    <tr>\n",
              "      <th>3309892</th>\n",
              "      <td>11680</td>\n",
              "      <td>자곡동</td>\n",
              "      <td>2015-12-31 00:00:00</td>\n",
              "      <td>래미안포레</td>\n",
              "      <td>NaN</td>\n",
              "      <td>84.9900</td>\n",
              "      <td>10</td>\n",
              "      <td>2014</td>\n",
              "      <td>46500</td>\n",
              "      <td>서울</td>\n",
              "      <td>강남구</td>\n",
              "    </tr>\n",
              "  </tbody>\n",
              "</table>\n",
              "<p>418 rows × 11 columns</p>\n",
              "</div>\n",
              "      <button class=\"colab-df-convert\" onclick=\"convertToInteractive('df-ee3f7ea0-2260-4b2d-b06a-ba4220a915aa')\"\n",
              "              title=\"Convert this dataframe to an interactive table.\"\n",
              "              style=\"display:none;\">\n",
              "        \n",
              "  <svg xmlns=\"http://www.w3.org/2000/svg\" height=\"24px\"viewBox=\"0 0 24 24\"\n",
              "       width=\"24px\">\n",
              "    <path d=\"M0 0h24v24H0V0z\" fill=\"none\"/>\n",
              "    <path d=\"M18.56 5.44l.94 2.06.94-2.06 2.06-.94-2.06-.94-.94-2.06-.94 2.06-2.06.94zm-11 1L8.5 8.5l.94-2.06 2.06-.94-2.06-.94L8.5 2.5l-.94 2.06-2.06.94zm10 10l.94 2.06.94-2.06 2.06-.94-2.06-.94-.94-2.06-.94 2.06-2.06.94z\"/><path d=\"M17.41 7.96l-1.37-1.37c-.4-.4-.92-.59-1.43-.59-.52 0-1.04.2-1.43.59L10.3 9.45l-7.72 7.72c-.78.78-.78 2.05 0 2.83L4 21.41c.39.39.9.59 1.41.59.51 0 1.02-.2 1.41-.59l7.78-7.78 2.81-2.81c.8-.78.8-2.07 0-2.86zM5.41 20L4 18.59l7.72-7.72 1.47 1.35L5.41 20z\"/>\n",
              "  </svg>\n",
              "      </button>\n",
              "      \n",
              "  <style>\n",
              "    .colab-df-container {\n",
              "      display:flex;\n",
              "      flex-wrap:wrap;\n",
              "      gap: 12px;\n",
              "    }\n",
              "\n",
              "    .colab-df-convert {\n",
              "      background-color: #E8F0FE;\n",
              "      border: none;\n",
              "      border-radius: 50%;\n",
              "      cursor: pointer;\n",
              "      display: none;\n",
              "      fill: #1967D2;\n",
              "      height: 32px;\n",
              "      padding: 0 0 0 0;\n",
              "      width: 32px;\n",
              "    }\n",
              "\n",
              "    .colab-df-convert:hover {\n",
              "      background-color: #E2EBFA;\n",
              "      box-shadow: 0px 1px 2px rgba(60, 64, 67, 0.3), 0px 1px 3px 1px rgba(60, 64, 67, 0.15);\n",
              "      fill: #174EA6;\n",
              "    }\n",
              "\n",
              "    [theme=dark] .colab-df-convert {\n",
              "      background-color: #3B4455;\n",
              "      fill: #D2E3FC;\n",
              "    }\n",
              "\n",
              "    [theme=dark] .colab-df-convert:hover {\n",
              "      background-color: #434B5C;\n",
              "      box-shadow: 0px 1px 3px 1px rgba(0, 0, 0, 0.15);\n",
              "      filter: drop-shadow(0px 1px 2px rgba(0, 0, 0, 0.3));\n",
              "      fill: #FFFFFF;\n",
              "    }\n",
              "  </style>\n",
              "\n",
              "      <script>\n",
              "        const buttonEl =\n",
              "          document.querySelector('#df-ee3f7ea0-2260-4b2d-b06a-ba4220a915aa button.colab-df-convert');\n",
              "        buttonEl.style.display =\n",
              "          google.colab.kernel.accessAllowed ? 'block' : 'none';\n",
              "\n",
              "        async function convertToInteractive(key) {\n",
              "          const element = document.querySelector('#df-ee3f7ea0-2260-4b2d-b06a-ba4220a915aa');\n",
              "          const dataTable =\n",
              "            await google.colab.kernel.invokeFunction('convertToInteractive',\n",
              "                                                     [key], {});\n",
              "          if (!dataTable) return;\n",
              "\n",
              "          const docLinkHtml = 'Like what you see? Visit the ' +\n",
              "            '<a target=\"_blank\" href=https://colab.research.google.com/notebooks/data_table.ipynb>data table notebook</a>'\n",
              "            + ' to learn more about interactive tables.';\n",
              "          element.innerHTML = '';\n",
              "          dataTable['output_type'] = 'display_data';\n",
              "          await google.colab.output.renderOutput(dataTable, element);\n",
              "          const docLink = document.createElement('div');\n",
              "          docLink.innerHTML = docLinkHtml;\n",
              "          element.appendChild(docLink);\n",
              "        }\n",
              "      </script>\n",
              "    </div>\n",
              "  </div>\n",
              "  "
            ]
          },
          "metadata": {},
          "execution_count": 13
        }
      ]
    },
    {
      "cell_type": "markdown",
      "source": [
        "건축년도가 최근에 지어진 아파트인것같다. 그래서 지번이 null인 데이터의 건축년도 최솟값을 보면"
      ],
      "metadata": {
        "id": "VgkJjuaYYxC_"
      }
    },
    {
      "cell_type": "code",
      "source": [
        "df[df['지번'].isna()]['건축년도'].min()"
      ],
      "metadata": {
        "colab": {
          "base_uri": "https://localhost:8080/"
        },
        "id": "RQjXVC1QX_OA",
        "outputId": "55d67cca-7f58-4c75-99d8-2914e60f998d"
      },
      "execution_count": 14,
      "outputs": [
        {
          "output_type": "execute_result",
          "data": {
            "text/plain": [
              "2014"
            ]
          },
          "metadata": {},
          "execution_count": 14
        }
      ]
    },
    {
      "cell_type": "markdown",
      "source": [
        "조사해보니 도로명주소가 2014년 1월 1일 전면시행되었다고 한다. 따라서 지번 columns는 drop해주도록 하자."
      ],
      "metadata": {
        "id": "Tk7gt3nWYi_-"
      }
    },
    {
      "cell_type": "code",
      "source": [
        "df = df.drop('지번',axis=1)"
      ],
      "metadata": {
        "id": "cjZgAsV8ZEi9"
      },
      "execution_count": 15,
      "outputs": []
    },
    {
      "cell_type": "markdown",
      "source": [
        "또한 거래일 날짜형식을 맞춰주도록 하자."
      ],
      "metadata": {
        "id": "UhTCV8kqZOT5"
      }
    },
    {
      "cell_type": "code",
      "source": [
        "df['거래일'] = pd.to_datetime(df['거래일'])"
      ],
      "metadata": {
        "id": "usRxfDjrZ5_P"
      },
      "execution_count": 16,
      "outputs": []
    },
    {
      "cell_type": "code",
      "source": [
        "df['층'].value_counts()"
      ],
      "metadata": {
        "colab": {
          "base_uri": "https://localhost:8080/"
        },
        "id": "AzdRYeCydjNX",
        "outputId": "df5bb782-ae7e-430c-861e-baddf52f13c1"
      },
      "execution_count": 17,
      "outputs": [
        {
          "output_type": "execute_result",
          "data": {
            "text/plain": [
              "5     316199\n",
              "4     314912\n",
              "3     306886\n",
              "2     295374\n",
              "1     269784\n",
              "       ...  \n",
              "81         1\n",
              "52         1\n",
              "40         1\n",
              "47         1\n",
              "           1\n",
              "Name: 층, Length: 139, dtype: int64"
            ]
          },
          "metadata": {},
          "execution_count": 17
        }
      ]
    },
    {
      "cell_type": "markdown",
      "source": [
        "층을 봤더니 공백이 있다. 이건 무슨 데이턴지 한번 알아보자."
      ],
      "metadata": {
        "id": "KPcAXKdiRYk4"
      }
    },
    {
      "cell_type": "code",
      "source": [
        "df[df['층']==' ']"
      ],
      "metadata": {
        "id": "dbMDE6HnKmi6",
        "colab": {
          "base_uri": "https://localhost:8080/",
          "height": 81
        },
        "outputId": "42c0a0b4-d884-45a3-9289-a63ceee83b95"
      },
      "execution_count": 18,
      "outputs": [
        {
          "output_type": "execute_result",
          "data": {
            "text/plain": [
              "         지역코드  법정동        거래일                   아파트  전용면적  층  건축년도   거래금액  지역  \\\n",
              "328713  41135  수내동 2016-05-31  양지마을(5단지)(한양515-529)  84.9     1992  60000  경기   \n",
              "\n",
              "              구  \n",
              "328713  성남시 분당구  "
            ],
            "text/html": [
              "\n",
              "  <div id=\"df-d55a0d19-a606-4fad-8f05-eebba02bc800\">\n",
              "    <div class=\"colab-df-container\">\n",
              "      <div>\n",
              "<style scoped>\n",
              "    .dataframe tbody tr th:only-of-type {\n",
              "        vertical-align: middle;\n",
              "    }\n",
              "\n",
              "    .dataframe tbody tr th {\n",
              "        vertical-align: top;\n",
              "    }\n",
              "\n",
              "    .dataframe thead th {\n",
              "        text-align: right;\n",
              "    }\n",
              "</style>\n",
              "<table border=\"1\" class=\"dataframe\">\n",
              "  <thead>\n",
              "    <tr style=\"text-align: right;\">\n",
              "      <th></th>\n",
              "      <th>지역코드</th>\n",
              "      <th>법정동</th>\n",
              "      <th>거래일</th>\n",
              "      <th>아파트</th>\n",
              "      <th>전용면적</th>\n",
              "      <th>층</th>\n",
              "      <th>건축년도</th>\n",
              "      <th>거래금액</th>\n",
              "      <th>지역</th>\n",
              "      <th>구</th>\n",
              "    </tr>\n",
              "  </thead>\n",
              "  <tbody>\n",
              "    <tr>\n",
              "      <th>328713</th>\n",
              "      <td>41135</td>\n",
              "      <td>수내동</td>\n",
              "      <td>2016-05-31</td>\n",
              "      <td>양지마을(5단지)(한양515-529)</td>\n",
              "      <td>84.9</td>\n",
              "      <td></td>\n",
              "      <td>1992</td>\n",
              "      <td>60000</td>\n",
              "      <td>경기</td>\n",
              "      <td>성남시 분당구</td>\n",
              "    </tr>\n",
              "  </tbody>\n",
              "</table>\n",
              "</div>\n",
              "      <button class=\"colab-df-convert\" onclick=\"convertToInteractive('df-d55a0d19-a606-4fad-8f05-eebba02bc800')\"\n",
              "              title=\"Convert this dataframe to an interactive table.\"\n",
              "              style=\"display:none;\">\n",
              "        \n",
              "  <svg xmlns=\"http://www.w3.org/2000/svg\" height=\"24px\"viewBox=\"0 0 24 24\"\n",
              "       width=\"24px\">\n",
              "    <path d=\"M0 0h24v24H0V0z\" fill=\"none\"/>\n",
              "    <path d=\"M18.56 5.44l.94 2.06.94-2.06 2.06-.94-2.06-.94-.94-2.06-.94 2.06-2.06.94zm-11 1L8.5 8.5l.94-2.06 2.06-.94-2.06-.94L8.5 2.5l-.94 2.06-2.06.94zm10 10l.94 2.06.94-2.06 2.06-.94-2.06-.94-.94-2.06-.94 2.06-2.06.94z\"/><path d=\"M17.41 7.96l-1.37-1.37c-.4-.4-.92-.59-1.43-.59-.52 0-1.04.2-1.43.59L10.3 9.45l-7.72 7.72c-.78.78-.78 2.05 0 2.83L4 21.41c.39.39.9.59 1.41.59.51 0 1.02-.2 1.41-.59l7.78-7.78 2.81-2.81c.8-.78.8-2.07 0-2.86zM5.41 20L4 18.59l7.72-7.72 1.47 1.35L5.41 20z\"/>\n",
              "  </svg>\n",
              "      </button>\n",
              "      \n",
              "  <style>\n",
              "    .colab-df-container {\n",
              "      display:flex;\n",
              "      flex-wrap:wrap;\n",
              "      gap: 12px;\n",
              "    }\n",
              "\n",
              "    .colab-df-convert {\n",
              "      background-color: #E8F0FE;\n",
              "      border: none;\n",
              "      border-radius: 50%;\n",
              "      cursor: pointer;\n",
              "      display: none;\n",
              "      fill: #1967D2;\n",
              "      height: 32px;\n",
              "      padding: 0 0 0 0;\n",
              "      width: 32px;\n",
              "    }\n",
              "\n",
              "    .colab-df-convert:hover {\n",
              "      background-color: #E2EBFA;\n",
              "      box-shadow: 0px 1px 2px rgba(60, 64, 67, 0.3), 0px 1px 3px 1px rgba(60, 64, 67, 0.15);\n",
              "      fill: #174EA6;\n",
              "    }\n",
              "\n",
              "    [theme=dark] .colab-df-convert {\n",
              "      background-color: #3B4455;\n",
              "      fill: #D2E3FC;\n",
              "    }\n",
              "\n",
              "    [theme=dark] .colab-df-convert:hover {\n",
              "      background-color: #434B5C;\n",
              "      box-shadow: 0px 1px 3px 1px rgba(0, 0, 0, 0.15);\n",
              "      filter: drop-shadow(0px 1px 2px rgba(0, 0, 0, 0.3));\n",
              "      fill: #FFFFFF;\n",
              "    }\n",
              "  </style>\n",
              "\n",
              "      <script>\n",
              "        const buttonEl =\n",
              "          document.querySelector('#df-d55a0d19-a606-4fad-8f05-eebba02bc800 button.colab-df-convert');\n",
              "        buttonEl.style.display =\n",
              "          google.colab.kernel.accessAllowed ? 'block' : 'none';\n",
              "\n",
              "        async function convertToInteractive(key) {\n",
              "          const element = document.querySelector('#df-d55a0d19-a606-4fad-8f05-eebba02bc800');\n",
              "          const dataTable =\n",
              "            await google.colab.kernel.invokeFunction('convertToInteractive',\n",
              "                                                     [key], {});\n",
              "          if (!dataTable) return;\n",
              "\n",
              "          const docLinkHtml = 'Like what you see? Visit the ' +\n",
              "            '<a target=\"_blank\" href=https://colab.research.google.com/notebooks/data_table.ipynb>data table notebook</a>'\n",
              "            + ' to learn more about interactive tables.';\n",
              "          element.innerHTML = '';\n",
              "          dataTable['output_type'] = 'display_data';\n",
              "          await google.colab.output.renderOutput(dataTable, element);\n",
              "          const docLink = document.createElement('div');\n",
              "          docLink.innerHTML = docLinkHtml;\n",
              "          element.appendChild(docLink);\n",
              "        }\n",
              "      </script>\n",
              "    </div>\n",
              "  </div>\n",
              "  "
            ]
          },
          "metadata": {},
          "execution_count": 18
        }
      ]
    },
    {
      "cell_type": "markdown",
      "source": [
        "이렇게 층이 공백인 데이터가 있다. 삭제해주도록 하자. 또한 층과 거래금액을 각각 정수, 실수형태로 바꿔주자. 거래금액은 ','를 공백으로 바꿔주고 실수형태로 바꿔줘야 에러가 나지않는다."
      ],
      "metadata": {
        "id": "4Bor2AkIKn2f"
      }
    },
    {
      "cell_type": "code",
      "source": [
        "drop_index_층 = df[df['층']==' '].index\n",
        "df.drop(drop_index_층,axis=0,inplace=True)"
      ],
      "metadata": {
        "id": "C8f5hMSlJ69q"
      },
      "execution_count": 19,
      "outputs": []
    },
    {
      "cell_type": "code",
      "source": [
        "df['거래금액'].replace(',', '', regex=True,inplace=True)"
      ],
      "metadata": {
        "id": "9b5GAjQ9KUKt"
      },
      "execution_count": 20,
      "outputs": []
    },
    {
      "cell_type": "code",
      "source": [
        "df = df.astype({'층': 'int','거래금액':'float'})"
      ],
      "metadata": {
        "id": "TOrqIxBrc7Ht"
      },
      "execution_count": 21,
      "outputs": []
    },
    {
      "cell_type": "code",
      "source": [
        "df.head()"
      ],
      "metadata": {
        "id": "VKz9YuZg2Vgs",
        "colab": {
          "base_uri": "https://localhost:8080/",
          "height": 206
        },
        "outputId": "26c5385d-ff23-43ed-efc8-d91e35528962"
      },
      "execution_count": 22,
      "outputs": [
        {
          "output_type": "execute_result",
          "data": {
            "text/plain": [
              "    지역코드  법정동        거래일       아파트      전용면적   층  건축년도     거래금액  지역   구\n",
              "0  31110  학성동 2020-05-30    남운학성타운  135.5800   8  1991  26700.0  울산  중구\n",
              "1  31110  남외동 2020-01-03  남외푸르지오1차  101.6000   2  2006  35500.0  울산  중구\n",
              "2  31110  남외동 2020-01-03     에일린의뜰   84.9920  11  2007  36500.0  울산  중구\n",
              "3  31110  남외동 2020-01-03  남외푸르지오1차  118.7060   8  2006  43000.0  울산  중구\n",
              "4  31110  남외동 2020-01-04  남외푸르지오2차   84.9636   7  2007  38700.0  울산  중구"
            ],
            "text/html": [
              "\n",
              "  <div id=\"df-7a4ab48e-5510-4c25-b0e3-c799d0645b98\">\n",
              "    <div class=\"colab-df-container\">\n",
              "      <div>\n",
              "<style scoped>\n",
              "    .dataframe tbody tr th:only-of-type {\n",
              "        vertical-align: middle;\n",
              "    }\n",
              "\n",
              "    .dataframe tbody tr th {\n",
              "        vertical-align: top;\n",
              "    }\n",
              "\n",
              "    .dataframe thead th {\n",
              "        text-align: right;\n",
              "    }\n",
              "</style>\n",
              "<table border=\"1\" class=\"dataframe\">\n",
              "  <thead>\n",
              "    <tr style=\"text-align: right;\">\n",
              "      <th></th>\n",
              "      <th>지역코드</th>\n",
              "      <th>법정동</th>\n",
              "      <th>거래일</th>\n",
              "      <th>아파트</th>\n",
              "      <th>전용면적</th>\n",
              "      <th>층</th>\n",
              "      <th>건축년도</th>\n",
              "      <th>거래금액</th>\n",
              "      <th>지역</th>\n",
              "      <th>구</th>\n",
              "    </tr>\n",
              "  </thead>\n",
              "  <tbody>\n",
              "    <tr>\n",
              "      <th>0</th>\n",
              "      <td>31110</td>\n",
              "      <td>학성동</td>\n",
              "      <td>2020-05-30</td>\n",
              "      <td>남운학성타운</td>\n",
              "      <td>135.5800</td>\n",
              "      <td>8</td>\n",
              "      <td>1991</td>\n",
              "      <td>26700.0</td>\n",
              "      <td>울산</td>\n",
              "      <td>중구</td>\n",
              "    </tr>\n",
              "    <tr>\n",
              "      <th>1</th>\n",
              "      <td>31110</td>\n",
              "      <td>남외동</td>\n",
              "      <td>2020-01-03</td>\n",
              "      <td>남외푸르지오1차</td>\n",
              "      <td>101.6000</td>\n",
              "      <td>2</td>\n",
              "      <td>2006</td>\n",
              "      <td>35500.0</td>\n",
              "      <td>울산</td>\n",
              "      <td>중구</td>\n",
              "    </tr>\n",
              "    <tr>\n",
              "      <th>2</th>\n",
              "      <td>31110</td>\n",
              "      <td>남외동</td>\n",
              "      <td>2020-01-03</td>\n",
              "      <td>에일린의뜰</td>\n",
              "      <td>84.9920</td>\n",
              "      <td>11</td>\n",
              "      <td>2007</td>\n",
              "      <td>36500.0</td>\n",
              "      <td>울산</td>\n",
              "      <td>중구</td>\n",
              "    </tr>\n",
              "    <tr>\n",
              "      <th>3</th>\n",
              "      <td>31110</td>\n",
              "      <td>남외동</td>\n",
              "      <td>2020-01-03</td>\n",
              "      <td>남외푸르지오1차</td>\n",
              "      <td>118.7060</td>\n",
              "      <td>8</td>\n",
              "      <td>2006</td>\n",
              "      <td>43000.0</td>\n",
              "      <td>울산</td>\n",
              "      <td>중구</td>\n",
              "    </tr>\n",
              "    <tr>\n",
              "      <th>4</th>\n",
              "      <td>31110</td>\n",
              "      <td>남외동</td>\n",
              "      <td>2020-01-04</td>\n",
              "      <td>남외푸르지오2차</td>\n",
              "      <td>84.9636</td>\n",
              "      <td>7</td>\n",
              "      <td>2007</td>\n",
              "      <td>38700.0</td>\n",
              "      <td>울산</td>\n",
              "      <td>중구</td>\n",
              "    </tr>\n",
              "  </tbody>\n",
              "</table>\n",
              "</div>\n",
              "      <button class=\"colab-df-convert\" onclick=\"convertToInteractive('df-7a4ab48e-5510-4c25-b0e3-c799d0645b98')\"\n",
              "              title=\"Convert this dataframe to an interactive table.\"\n",
              "              style=\"display:none;\">\n",
              "        \n",
              "  <svg xmlns=\"http://www.w3.org/2000/svg\" height=\"24px\"viewBox=\"0 0 24 24\"\n",
              "       width=\"24px\">\n",
              "    <path d=\"M0 0h24v24H0V0z\" fill=\"none\"/>\n",
              "    <path d=\"M18.56 5.44l.94 2.06.94-2.06 2.06-.94-2.06-.94-.94-2.06-.94 2.06-2.06.94zm-11 1L8.5 8.5l.94-2.06 2.06-.94-2.06-.94L8.5 2.5l-.94 2.06-2.06.94zm10 10l.94 2.06.94-2.06 2.06-.94-2.06-.94-.94-2.06-.94 2.06-2.06.94z\"/><path d=\"M17.41 7.96l-1.37-1.37c-.4-.4-.92-.59-1.43-.59-.52 0-1.04.2-1.43.59L10.3 9.45l-7.72 7.72c-.78.78-.78 2.05 0 2.83L4 21.41c.39.39.9.59 1.41.59.51 0 1.02-.2 1.41-.59l7.78-7.78 2.81-2.81c.8-.78.8-2.07 0-2.86zM5.41 20L4 18.59l7.72-7.72 1.47 1.35L5.41 20z\"/>\n",
              "  </svg>\n",
              "      </button>\n",
              "      \n",
              "  <style>\n",
              "    .colab-df-container {\n",
              "      display:flex;\n",
              "      flex-wrap:wrap;\n",
              "      gap: 12px;\n",
              "    }\n",
              "\n",
              "    .colab-df-convert {\n",
              "      background-color: #E8F0FE;\n",
              "      border: none;\n",
              "      border-radius: 50%;\n",
              "      cursor: pointer;\n",
              "      display: none;\n",
              "      fill: #1967D2;\n",
              "      height: 32px;\n",
              "      padding: 0 0 0 0;\n",
              "      width: 32px;\n",
              "    }\n",
              "\n",
              "    .colab-df-convert:hover {\n",
              "      background-color: #E2EBFA;\n",
              "      box-shadow: 0px 1px 2px rgba(60, 64, 67, 0.3), 0px 1px 3px 1px rgba(60, 64, 67, 0.15);\n",
              "      fill: #174EA6;\n",
              "    }\n",
              "\n",
              "    [theme=dark] .colab-df-convert {\n",
              "      background-color: #3B4455;\n",
              "      fill: #D2E3FC;\n",
              "    }\n",
              "\n",
              "    [theme=dark] .colab-df-convert:hover {\n",
              "      background-color: #434B5C;\n",
              "      box-shadow: 0px 1px 3px 1px rgba(0, 0, 0, 0.15);\n",
              "      filter: drop-shadow(0px 1px 2px rgba(0, 0, 0, 0.3));\n",
              "      fill: #FFFFFF;\n",
              "    }\n",
              "  </style>\n",
              "\n",
              "      <script>\n",
              "        const buttonEl =\n",
              "          document.querySelector('#df-7a4ab48e-5510-4c25-b0e3-c799d0645b98 button.colab-df-convert');\n",
              "        buttonEl.style.display =\n",
              "          google.colab.kernel.accessAllowed ? 'block' : 'none';\n",
              "\n",
              "        async function convertToInteractive(key) {\n",
              "          const element = document.querySelector('#df-7a4ab48e-5510-4c25-b0e3-c799d0645b98');\n",
              "          const dataTable =\n",
              "            await google.colab.kernel.invokeFunction('convertToInteractive',\n",
              "                                                     [key], {});\n",
              "          if (!dataTable) return;\n",
              "\n",
              "          const docLinkHtml = 'Like what you see? Visit the ' +\n",
              "            '<a target=\"_blank\" href=https://colab.research.google.com/notebooks/data_table.ipynb>data table notebook</a>'\n",
              "            + ' to learn more about interactive tables.';\n",
              "          element.innerHTML = '';\n",
              "          dataTable['output_type'] = 'display_data';\n",
              "          await google.colab.output.renderOutput(dataTable, element);\n",
              "          const docLink = document.createElement('div');\n",
              "          docLink.innerHTML = docLinkHtml;\n",
              "          element.appendChild(docLink);\n",
              "        }\n",
              "      </script>\n",
              "    </div>\n",
              "  </div>\n",
              "  "
            ]
          },
          "metadata": {},
          "execution_count": 22
        }
      ]
    },
    {
      "cell_type": "markdown",
      "source": [
        "columns 순서를 보기 편하게 조금 바꿔주도록 하자. 또한 지역코드는 모두 사용해줬으니 drop해준다."
      ],
      "metadata": {
        "id": "EWLWWqVFRt5w"
      }
    },
    {
      "cell_type": "code",
      "source": [
        "df = df.reindex(columns=['지역', '구', '법정동', '거래일', '아파트', '전용면적','층','건축년도','거래금액'])\n",
        "df.head()"
      ],
      "metadata": {
        "id": "zmKNRbAZNWu8",
        "colab": {
          "base_uri": "https://localhost:8080/",
          "height": 206
        },
        "outputId": "6f2dd520-5619-4c31-ecd4-8a73b42cfc50"
      },
      "execution_count": 23,
      "outputs": [
        {
          "output_type": "execute_result",
          "data": {
            "text/plain": [
              "   지역   구  법정동        거래일       아파트      전용면적   층  건축년도     거래금액\n",
              "0  울산  중구  학성동 2020-05-30    남운학성타운  135.5800   8  1991  26700.0\n",
              "1  울산  중구  남외동 2020-01-03  남외푸르지오1차  101.6000   2  2006  35500.0\n",
              "2  울산  중구  남외동 2020-01-03     에일린의뜰   84.9920  11  2007  36500.0\n",
              "3  울산  중구  남외동 2020-01-03  남외푸르지오1차  118.7060   8  2006  43000.0\n",
              "4  울산  중구  남외동 2020-01-04  남외푸르지오2차   84.9636   7  2007  38700.0"
            ],
            "text/html": [
              "\n",
              "  <div id=\"df-388efebd-521c-4bcf-933d-259207d536d3\">\n",
              "    <div class=\"colab-df-container\">\n",
              "      <div>\n",
              "<style scoped>\n",
              "    .dataframe tbody tr th:only-of-type {\n",
              "        vertical-align: middle;\n",
              "    }\n",
              "\n",
              "    .dataframe tbody tr th {\n",
              "        vertical-align: top;\n",
              "    }\n",
              "\n",
              "    .dataframe thead th {\n",
              "        text-align: right;\n",
              "    }\n",
              "</style>\n",
              "<table border=\"1\" class=\"dataframe\">\n",
              "  <thead>\n",
              "    <tr style=\"text-align: right;\">\n",
              "      <th></th>\n",
              "      <th>지역</th>\n",
              "      <th>구</th>\n",
              "      <th>법정동</th>\n",
              "      <th>거래일</th>\n",
              "      <th>아파트</th>\n",
              "      <th>전용면적</th>\n",
              "      <th>층</th>\n",
              "      <th>건축년도</th>\n",
              "      <th>거래금액</th>\n",
              "    </tr>\n",
              "  </thead>\n",
              "  <tbody>\n",
              "    <tr>\n",
              "      <th>0</th>\n",
              "      <td>울산</td>\n",
              "      <td>중구</td>\n",
              "      <td>학성동</td>\n",
              "      <td>2020-05-30</td>\n",
              "      <td>남운학성타운</td>\n",
              "      <td>135.5800</td>\n",
              "      <td>8</td>\n",
              "      <td>1991</td>\n",
              "      <td>26700.0</td>\n",
              "    </tr>\n",
              "    <tr>\n",
              "      <th>1</th>\n",
              "      <td>울산</td>\n",
              "      <td>중구</td>\n",
              "      <td>남외동</td>\n",
              "      <td>2020-01-03</td>\n",
              "      <td>남외푸르지오1차</td>\n",
              "      <td>101.6000</td>\n",
              "      <td>2</td>\n",
              "      <td>2006</td>\n",
              "      <td>35500.0</td>\n",
              "    </tr>\n",
              "    <tr>\n",
              "      <th>2</th>\n",
              "      <td>울산</td>\n",
              "      <td>중구</td>\n",
              "      <td>남외동</td>\n",
              "      <td>2020-01-03</td>\n",
              "      <td>에일린의뜰</td>\n",
              "      <td>84.9920</td>\n",
              "      <td>11</td>\n",
              "      <td>2007</td>\n",
              "      <td>36500.0</td>\n",
              "    </tr>\n",
              "    <tr>\n",
              "      <th>3</th>\n",
              "      <td>울산</td>\n",
              "      <td>중구</td>\n",
              "      <td>남외동</td>\n",
              "      <td>2020-01-03</td>\n",
              "      <td>남외푸르지오1차</td>\n",
              "      <td>118.7060</td>\n",
              "      <td>8</td>\n",
              "      <td>2006</td>\n",
              "      <td>43000.0</td>\n",
              "    </tr>\n",
              "    <tr>\n",
              "      <th>4</th>\n",
              "      <td>울산</td>\n",
              "      <td>중구</td>\n",
              "      <td>남외동</td>\n",
              "      <td>2020-01-04</td>\n",
              "      <td>남외푸르지오2차</td>\n",
              "      <td>84.9636</td>\n",
              "      <td>7</td>\n",
              "      <td>2007</td>\n",
              "      <td>38700.0</td>\n",
              "    </tr>\n",
              "  </tbody>\n",
              "</table>\n",
              "</div>\n",
              "      <button class=\"colab-df-convert\" onclick=\"convertToInteractive('df-388efebd-521c-4bcf-933d-259207d536d3')\"\n",
              "              title=\"Convert this dataframe to an interactive table.\"\n",
              "              style=\"display:none;\">\n",
              "        \n",
              "  <svg xmlns=\"http://www.w3.org/2000/svg\" height=\"24px\"viewBox=\"0 0 24 24\"\n",
              "       width=\"24px\">\n",
              "    <path d=\"M0 0h24v24H0V0z\" fill=\"none\"/>\n",
              "    <path d=\"M18.56 5.44l.94 2.06.94-2.06 2.06-.94-2.06-.94-.94-2.06-.94 2.06-2.06.94zm-11 1L8.5 8.5l.94-2.06 2.06-.94-2.06-.94L8.5 2.5l-.94 2.06-2.06.94zm10 10l.94 2.06.94-2.06 2.06-.94-2.06-.94-.94-2.06-.94 2.06-2.06.94z\"/><path d=\"M17.41 7.96l-1.37-1.37c-.4-.4-.92-.59-1.43-.59-.52 0-1.04.2-1.43.59L10.3 9.45l-7.72 7.72c-.78.78-.78 2.05 0 2.83L4 21.41c.39.39.9.59 1.41.59.51 0 1.02-.2 1.41-.59l7.78-7.78 2.81-2.81c.8-.78.8-2.07 0-2.86zM5.41 20L4 18.59l7.72-7.72 1.47 1.35L5.41 20z\"/>\n",
              "  </svg>\n",
              "      </button>\n",
              "      \n",
              "  <style>\n",
              "    .colab-df-container {\n",
              "      display:flex;\n",
              "      flex-wrap:wrap;\n",
              "      gap: 12px;\n",
              "    }\n",
              "\n",
              "    .colab-df-convert {\n",
              "      background-color: #E8F0FE;\n",
              "      border: none;\n",
              "      border-radius: 50%;\n",
              "      cursor: pointer;\n",
              "      display: none;\n",
              "      fill: #1967D2;\n",
              "      height: 32px;\n",
              "      padding: 0 0 0 0;\n",
              "      width: 32px;\n",
              "    }\n",
              "\n",
              "    .colab-df-convert:hover {\n",
              "      background-color: #E2EBFA;\n",
              "      box-shadow: 0px 1px 2px rgba(60, 64, 67, 0.3), 0px 1px 3px 1px rgba(60, 64, 67, 0.15);\n",
              "      fill: #174EA6;\n",
              "    }\n",
              "\n",
              "    [theme=dark] .colab-df-convert {\n",
              "      background-color: #3B4455;\n",
              "      fill: #D2E3FC;\n",
              "    }\n",
              "\n",
              "    [theme=dark] .colab-df-convert:hover {\n",
              "      background-color: #434B5C;\n",
              "      box-shadow: 0px 1px 3px 1px rgba(0, 0, 0, 0.15);\n",
              "      filter: drop-shadow(0px 1px 2px rgba(0, 0, 0, 0.3));\n",
              "      fill: #FFFFFF;\n",
              "    }\n",
              "  </style>\n",
              "\n",
              "      <script>\n",
              "        const buttonEl =\n",
              "          document.querySelector('#df-388efebd-521c-4bcf-933d-259207d536d3 button.colab-df-convert');\n",
              "        buttonEl.style.display =\n",
              "          google.colab.kernel.accessAllowed ? 'block' : 'none';\n",
              "\n",
              "        async function convertToInteractive(key) {\n",
              "          const element = document.querySelector('#df-388efebd-521c-4bcf-933d-259207d536d3');\n",
              "          const dataTable =\n",
              "            await google.colab.kernel.invokeFunction('convertToInteractive',\n",
              "                                                     [key], {});\n",
              "          if (!dataTable) return;\n",
              "\n",
              "          const docLinkHtml = 'Like what you see? Visit the ' +\n",
              "            '<a target=\"_blank\" href=https://colab.research.google.com/notebooks/data_table.ipynb>data table notebook</a>'\n",
              "            + ' to learn more about interactive tables.';\n",
              "          element.innerHTML = '';\n",
              "          dataTable['output_type'] = 'display_data';\n",
              "          await google.colab.output.renderOutput(dataTable, element);\n",
              "          const docLink = document.createElement('div');\n",
              "          docLink.innerHTML = docLinkHtml;\n",
              "          element.appendChild(docLink);\n",
              "        }\n",
              "      </script>\n",
              "    </div>\n",
              "  </div>\n",
              "  "
            ]
          },
          "metadata": {},
          "execution_count": 23
        }
      ]
    },
    {
      "cell_type": "markdown",
      "source": [
        "데이터셋은 다 완료됐으니 전체적인 수치값을 한번 보도록 하자."
      ],
      "metadata": {
        "id": "CqIVe1Mt1xBA"
      }
    },
    {
      "cell_type": "code",
      "source": [
        "pd.set_option('float_format', '{:.5f}'.format)"
      ],
      "metadata": {
        "id": "e0iudIbsvnEm"
      },
      "execution_count": 24,
      "outputs": []
    },
    {
      "cell_type": "code",
      "source": [
        "df.describe()"
      ],
      "metadata": {
        "id": "2fHoyAOAm68l",
        "colab": {
          "base_uri": "https://localhost:8080/",
          "height": 300
        },
        "outputId": "febb3680-7f7c-4a86-d7eb-c493deeafd00"
      },
      "execution_count": 25,
      "outputs": [
        {
          "output_type": "execute_result",
          "data": {
            "text/plain": [
              "               전용면적             층          건축년도          거래금액\n",
              "count 4348785.00000 4348785.00000 4348785.00000 4348785.00000\n",
              "mean       76.02820       9.10991    2001.34871   30795.03892\n",
              "std        26.31645       6.27336       9.25789   27623.79479\n",
              "min         9.26000      -4.00000    1961.00000     100.00000\n",
              "25%        59.74030       4.00000    1995.00000   15000.00000\n",
              "50%        79.50000       8.00000    2001.00000   24250.00000\n",
              "75%        84.96000      13.00000    2008.00000   37600.00000\n",
              "max       424.32000      83.00000    2022.00000 1200000.00000"
            ],
            "text/html": [
              "\n",
              "  <div id=\"df-1afb5582-887c-4e23-88b3-5638243128ff\">\n",
              "    <div class=\"colab-df-container\">\n",
              "      <div>\n",
              "<style scoped>\n",
              "    .dataframe tbody tr th:only-of-type {\n",
              "        vertical-align: middle;\n",
              "    }\n",
              "\n",
              "    .dataframe tbody tr th {\n",
              "        vertical-align: top;\n",
              "    }\n",
              "\n",
              "    .dataframe thead th {\n",
              "        text-align: right;\n",
              "    }\n",
              "</style>\n",
              "<table border=\"1\" class=\"dataframe\">\n",
              "  <thead>\n",
              "    <tr style=\"text-align: right;\">\n",
              "      <th></th>\n",
              "      <th>전용면적</th>\n",
              "      <th>층</th>\n",
              "      <th>건축년도</th>\n",
              "      <th>거래금액</th>\n",
              "    </tr>\n",
              "  </thead>\n",
              "  <tbody>\n",
              "    <tr>\n",
              "      <th>count</th>\n",
              "      <td>4348785.00000</td>\n",
              "      <td>4348785.00000</td>\n",
              "      <td>4348785.00000</td>\n",
              "      <td>4348785.00000</td>\n",
              "    </tr>\n",
              "    <tr>\n",
              "      <th>mean</th>\n",
              "      <td>76.02820</td>\n",
              "      <td>9.10991</td>\n",
              "      <td>2001.34871</td>\n",
              "      <td>30795.03892</td>\n",
              "    </tr>\n",
              "    <tr>\n",
              "      <th>std</th>\n",
              "      <td>26.31645</td>\n",
              "      <td>6.27336</td>\n",
              "      <td>9.25789</td>\n",
              "      <td>27623.79479</td>\n",
              "    </tr>\n",
              "    <tr>\n",
              "      <th>min</th>\n",
              "      <td>9.26000</td>\n",
              "      <td>-4.00000</td>\n",
              "      <td>1961.00000</td>\n",
              "      <td>100.00000</td>\n",
              "    </tr>\n",
              "    <tr>\n",
              "      <th>25%</th>\n",
              "      <td>59.74030</td>\n",
              "      <td>4.00000</td>\n",
              "      <td>1995.00000</td>\n",
              "      <td>15000.00000</td>\n",
              "    </tr>\n",
              "    <tr>\n",
              "      <th>50%</th>\n",
              "      <td>79.50000</td>\n",
              "      <td>8.00000</td>\n",
              "      <td>2001.00000</td>\n",
              "      <td>24250.00000</td>\n",
              "    </tr>\n",
              "    <tr>\n",
              "      <th>75%</th>\n",
              "      <td>84.96000</td>\n",
              "      <td>13.00000</td>\n",
              "      <td>2008.00000</td>\n",
              "      <td>37600.00000</td>\n",
              "    </tr>\n",
              "    <tr>\n",
              "      <th>max</th>\n",
              "      <td>424.32000</td>\n",
              "      <td>83.00000</td>\n",
              "      <td>2022.00000</td>\n",
              "      <td>1200000.00000</td>\n",
              "    </tr>\n",
              "  </tbody>\n",
              "</table>\n",
              "</div>\n",
              "      <button class=\"colab-df-convert\" onclick=\"convertToInteractive('df-1afb5582-887c-4e23-88b3-5638243128ff')\"\n",
              "              title=\"Convert this dataframe to an interactive table.\"\n",
              "              style=\"display:none;\">\n",
              "        \n",
              "  <svg xmlns=\"http://www.w3.org/2000/svg\" height=\"24px\"viewBox=\"0 0 24 24\"\n",
              "       width=\"24px\">\n",
              "    <path d=\"M0 0h24v24H0V0z\" fill=\"none\"/>\n",
              "    <path d=\"M18.56 5.44l.94 2.06.94-2.06 2.06-.94-2.06-.94-.94-2.06-.94 2.06-2.06.94zm-11 1L8.5 8.5l.94-2.06 2.06-.94-2.06-.94L8.5 2.5l-.94 2.06-2.06.94zm10 10l.94 2.06.94-2.06 2.06-.94-2.06-.94-.94-2.06-.94 2.06-2.06.94z\"/><path d=\"M17.41 7.96l-1.37-1.37c-.4-.4-.92-.59-1.43-.59-.52 0-1.04.2-1.43.59L10.3 9.45l-7.72 7.72c-.78.78-.78 2.05 0 2.83L4 21.41c.39.39.9.59 1.41.59.51 0 1.02-.2 1.41-.59l7.78-7.78 2.81-2.81c.8-.78.8-2.07 0-2.86zM5.41 20L4 18.59l7.72-7.72 1.47 1.35L5.41 20z\"/>\n",
              "  </svg>\n",
              "      </button>\n",
              "      \n",
              "  <style>\n",
              "    .colab-df-container {\n",
              "      display:flex;\n",
              "      flex-wrap:wrap;\n",
              "      gap: 12px;\n",
              "    }\n",
              "\n",
              "    .colab-df-convert {\n",
              "      background-color: #E8F0FE;\n",
              "      border: none;\n",
              "      border-radius: 50%;\n",
              "      cursor: pointer;\n",
              "      display: none;\n",
              "      fill: #1967D2;\n",
              "      height: 32px;\n",
              "      padding: 0 0 0 0;\n",
              "      width: 32px;\n",
              "    }\n",
              "\n",
              "    .colab-df-convert:hover {\n",
              "      background-color: #E2EBFA;\n",
              "      box-shadow: 0px 1px 2px rgba(60, 64, 67, 0.3), 0px 1px 3px 1px rgba(60, 64, 67, 0.15);\n",
              "      fill: #174EA6;\n",
              "    }\n",
              "\n",
              "    [theme=dark] .colab-df-convert {\n",
              "      background-color: #3B4455;\n",
              "      fill: #D2E3FC;\n",
              "    }\n",
              "\n",
              "    [theme=dark] .colab-df-convert:hover {\n",
              "      background-color: #434B5C;\n",
              "      box-shadow: 0px 1px 3px 1px rgba(0, 0, 0, 0.15);\n",
              "      filter: drop-shadow(0px 1px 2px rgba(0, 0, 0, 0.3));\n",
              "      fill: #FFFFFF;\n",
              "    }\n",
              "  </style>\n",
              "\n",
              "      <script>\n",
              "        const buttonEl =\n",
              "          document.querySelector('#df-1afb5582-887c-4e23-88b3-5638243128ff button.colab-df-convert');\n",
              "        buttonEl.style.display =\n",
              "          google.colab.kernel.accessAllowed ? 'block' : 'none';\n",
              "\n",
              "        async function convertToInteractive(key) {\n",
              "          const element = document.querySelector('#df-1afb5582-887c-4e23-88b3-5638243128ff');\n",
              "          const dataTable =\n",
              "            await google.colab.kernel.invokeFunction('convertToInteractive',\n",
              "                                                     [key], {});\n",
              "          if (!dataTable) return;\n",
              "\n",
              "          const docLinkHtml = 'Like what you see? Visit the ' +\n",
              "            '<a target=\"_blank\" href=https://colab.research.google.com/notebooks/data_table.ipynb>data table notebook</a>'\n",
              "            + ' to learn more about interactive tables.';\n",
              "          element.innerHTML = '';\n",
              "          dataTable['output_type'] = 'display_data';\n",
              "          await google.colab.output.renderOutput(dataTable, element);\n",
              "          const docLink = document.createElement('div');\n",
              "          docLink.innerHTML = docLinkHtml;\n",
              "          element.appendChild(docLink);\n",
              "        }\n",
              "      </script>\n",
              "    </div>\n",
              "  </div>\n",
              "  "
            ]
          },
          "metadata": {},
          "execution_count": 25
        }
      ]
    },
    {
      "cell_type": "markdown",
      "source": [
        "그런데 이상한 점이 있다. 층을 보면 음수인 층이 있다. 데이터를 한번 보도록 하자."
      ],
      "metadata": {
        "id": "6KeQUjbm2VGF"
      }
    },
    {
      "cell_type": "code",
      "source": [
        "df[df['층']<0]"
      ],
      "metadata": {
        "colab": {
          "base_uri": "https://localhost:8080/",
          "height": 424
        },
        "id": "y8dDhWPzvIdz",
        "outputId": "1ec4ee37-bc98-4037-a1ef-e88d371e9874"
      },
      "execution_count": 26,
      "outputs": [
        {
          "output_type": "execute_result",
          "data": {
            "text/plain": [
              "         지역        구  법정동        거래일    아파트      전용면적  층  건축년도        거래금액\n",
              "68       울산       중구  북정동 2020-01-03     동양  30.64000 -1  1978 13500.00000\n",
              "6643     울산       중구  북정동 2019-07-16     북정  61.22000 -1  1979 17000.00000\n",
              "8183     울산       중구  북정동 2020-01-03     동양  30.64000 -1  1978 13500.00000\n",
              "607567   경기  안산시 상록구  수암동 2017-06-30     동신  48.66000 -1  1979  5400.00000\n",
              "608127   경기  안산시 상록구  수암동 2017-09-10     동신  48.69000 -1  1979  4800.00000\n",
              "...      ..      ...  ...        ...    ...       ... ..   ...         ...\n",
              "4151968  광주       북구  용봉동 2015-01-22    현대3 128.65000 -1  1999 18700.00000\n",
              "4271757  대전       서구  갈마동 2016-08-29  동건빌리지  44.19000 -1  1997  3700.00000\n",
              "4274527  대전       서구  갈마동 2016-11-30  동건빌리지  44.19000 -1  1997  3900.00000\n",
              "4278424  대전       서구  갈마동 2016-08-29  동건빌리지  44.19000 -1  1997  3700.00000\n",
              "4281194  대전       서구  갈마동 2016-11-30  동건빌리지  44.19000 -1  1997  3900.00000\n",
              "\n",
              "[231 rows x 9 columns]"
            ],
            "text/html": [
              "\n",
              "  <div id=\"df-4b41fb5a-4cc9-4d6e-b2d7-6a09fa937568\">\n",
              "    <div class=\"colab-df-container\">\n",
              "      <div>\n",
              "<style scoped>\n",
              "    .dataframe tbody tr th:only-of-type {\n",
              "        vertical-align: middle;\n",
              "    }\n",
              "\n",
              "    .dataframe tbody tr th {\n",
              "        vertical-align: top;\n",
              "    }\n",
              "\n",
              "    .dataframe thead th {\n",
              "        text-align: right;\n",
              "    }\n",
              "</style>\n",
              "<table border=\"1\" class=\"dataframe\">\n",
              "  <thead>\n",
              "    <tr style=\"text-align: right;\">\n",
              "      <th></th>\n",
              "      <th>지역</th>\n",
              "      <th>구</th>\n",
              "      <th>법정동</th>\n",
              "      <th>거래일</th>\n",
              "      <th>아파트</th>\n",
              "      <th>전용면적</th>\n",
              "      <th>층</th>\n",
              "      <th>건축년도</th>\n",
              "      <th>거래금액</th>\n",
              "    </tr>\n",
              "  </thead>\n",
              "  <tbody>\n",
              "    <tr>\n",
              "      <th>68</th>\n",
              "      <td>울산</td>\n",
              "      <td>중구</td>\n",
              "      <td>북정동</td>\n",
              "      <td>2020-01-03</td>\n",
              "      <td>동양</td>\n",
              "      <td>30.64000</td>\n",
              "      <td>-1</td>\n",
              "      <td>1978</td>\n",
              "      <td>13500.00000</td>\n",
              "    </tr>\n",
              "    <tr>\n",
              "      <th>6643</th>\n",
              "      <td>울산</td>\n",
              "      <td>중구</td>\n",
              "      <td>북정동</td>\n",
              "      <td>2019-07-16</td>\n",
              "      <td>북정</td>\n",
              "      <td>61.22000</td>\n",
              "      <td>-1</td>\n",
              "      <td>1979</td>\n",
              "      <td>17000.00000</td>\n",
              "    </tr>\n",
              "    <tr>\n",
              "      <th>8183</th>\n",
              "      <td>울산</td>\n",
              "      <td>중구</td>\n",
              "      <td>북정동</td>\n",
              "      <td>2020-01-03</td>\n",
              "      <td>동양</td>\n",
              "      <td>30.64000</td>\n",
              "      <td>-1</td>\n",
              "      <td>1978</td>\n",
              "      <td>13500.00000</td>\n",
              "    </tr>\n",
              "    <tr>\n",
              "      <th>607567</th>\n",
              "      <td>경기</td>\n",
              "      <td>안산시 상록구</td>\n",
              "      <td>수암동</td>\n",
              "      <td>2017-06-30</td>\n",
              "      <td>동신</td>\n",
              "      <td>48.66000</td>\n",
              "      <td>-1</td>\n",
              "      <td>1979</td>\n",
              "      <td>5400.00000</td>\n",
              "    </tr>\n",
              "    <tr>\n",
              "      <th>608127</th>\n",
              "      <td>경기</td>\n",
              "      <td>안산시 상록구</td>\n",
              "      <td>수암동</td>\n",
              "      <td>2017-09-10</td>\n",
              "      <td>동신</td>\n",
              "      <td>48.69000</td>\n",
              "      <td>-1</td>\n",
              "      <td>1979</td>\n",
              "      <td>4800.00000</td>\n",
              "    </tr>\n",
              "    <tr>\n",
              "      <th>...</th>\n",
              "      <td>...</td>\n",
              "      <td>...</td>\n",
              "      <td>...</td>\n",
              "      <td>...</td>\n",
              "      <td>...</td>\n",
              "      <td>...</td>\n",
              "      <td>...</td>\n",
              "      <td>...</td>\n",
              "      <td>...</td>\n",
              "    </tr>\n",
              "    <tr>\n",
              "      <th>4151968</th>\n",
              "      <td>광주</td>\n",
              "      <td>북구</td>\n",
              "      <td>용봉동</td>\n",
              "      <td>2015-01-22</td>\n",
              "      <td>현대3</td>\n",
              "      <td>128.65000</td>\n",
              "      <td>-1</td>\n",
              "      <td>1999</td>\n",
              "      <td>18700.00000</td>\n",
              "    </tr>\n",
              "    <tr>\n",
              "      <th>4271757</th>\n",
              "      <td>대전</td>\n",
              "      <td>서구</td>\n",
              "      <td>갈마동</td>\n",
              "      <td>2016-08-29</td>\n",
              "      <td>동건빌리지</td>\n",
              "      <td>44.19000</td>\n",
              "      <td>-1</td>\n",
              "      <td>1997</td>\n",
              "      <td>3700.00000</td>\n",
              "    </tr>\n",
              "    <tr>\n",
              "      <th>4274527</th>\n",
              "      <td>대전</td>\n",
              "      <td>서구</td>\n",
              "      <td>갈마동</td>\n",
              "      <td>2016-11-30</td>\n",
              "      <td>동건빌리지</td>\n",
              "      <td>44.19000</td>\n",
              "      <td>-1</td>\n",
              "      <td>1997</td>\n",
              "      <td>3900.00000</td>\n",
              "    </tr>\n",
              "    <tr>\n",
              "      <th>4278424</th>\n",
              "      <td>대전</td>\n",
              "      <td>서구</td>\n",
              "      <td>갈마동</td>\n",
              "      <td>2016-08-29</td>\n",
              "      <td>동건빌리지</td>\n",
              "      <td>44.19000</td>\n",
              "      <td>-1</td>\n",
              "      <td>1997</td>\n",
              "      <td>3700.00000</td>\n",
              "    </tr>\n",
              "    <tr>\n",
              "      <th>4281194</th>\n",
              "      <td>대전</td>\n",
              "      <td>서구</td>\n",
              "      <td>갈마동</td>\n",
              "      <td>2016-11-30</td>\n",
              "      <td>동건빌리지</td>\n",
              "      <td>44.19000</td>\n",
              "      <td>-1</td>\n",
              "      <td>1997</td>\n",
              "      <td>3900.00000</td>\n",
              "    </tr>\n",
              "  </tbody>\n",
              "</table>\n",
              "<p>231 rows × 9 columns</p>\n",
              "</div>\n",
              "      <button class=\"colab-df-convert\" onclick=\"convertToInteractive('df-4b41fb5a-4cc9-4d6e-b2d7-6a09fa937568')\"\n",
              "              title=\"Convert this dataframe to an interactive table.\"\n",
              "              style=\"display:none;\">\n",
              "        \n",
              "  <svg xmlns=\"http://www.w3.org/2000/svg\" height=\"24px\"viewBox=\"0 0 24 24\"\n",
              "       width=\"24px\">\n",
              "    <path d=\"M0 0h24v24H0V0z\" fill=\"none\"/>\n",
              "    <path d=\"M18.56 5.44l.94 2.06.94-2.06 2.06-.94-2.06-.94-.94-2.06-.94 2.06-2.06.94zm-11 1L8.5 8.5l.94-2.06 2.06-.94-2.06-.94L8.5 2.5l-.94 2.06-2.06.94zm10 10l.94 2.06.94-2.06 2.06-.94-2.06-.94-.94-2.06-.94 2.06-2.06.94z\"/><path d=\"M17.41 7.96l-1.37-1.37c-.4-.4-.92-.59-1.43-.59-.52 0-1.04.2-1.43.59L10.3 9.45l-7.72 7.72c-.78.78-.78 2.05 0 2.83L4 21.41c.39.39.9.59 1.41.59.51 0 1.02-.2 1.41-.59l7.78-7.78 2.81-2.81c.8-.78.8-2.07 0-2.86zM5.41 20L4 18.59l7.72-7.72 1.47 1.35L5.41 20z\"/>\n",
              "  </svg>\n",
              "      </button>\n",
              "      \n",
              "  <style>\n",
              "    .colab-df-container {\n",
              "      display:flex;\n",
              "      flex-wrap:wrap;\n",
              "      gap: 12px;\n",
              "    }\n",
              "\n",
              "    .colab-df-convert {\n",
              "      background-color: #E8F0FE;\n",
              "      border: none;\n",
              "      border-radius: 50%;\n",
              "      cursor: pointer;\n",
              "      display: none;\n",
              "      fill: #1967D2;\n",
              "      height: 32px;\n",
              "      padding: 0 0 0 0;\n",
              "      width: 32px;\n",
              "    }\n",
              "\n",
              "    .colab-df-convert:hover {\n",
              "      background-color: #E2EBFA;\n",
              "      box-shadow: 0px 1px 2px rgba(60, 64, 67, 0.3), 0px 1px 3px 1px rgba(60, 64, 67, 0.15);\n",
              "      fill: #174EA6;\n",
              "    }\n",
              "\n",
              "    [theme=dark] .colab-df-convert {\n",
              "      background-color: #3B4455;\n",
              "      fill: #D2E3FC;\n",
              "    }\n",
              "\n",
              "    [theme=dark] .colab-df-convert:hover {\n",
              "      background-color: #434B5C;\n",
              "      box-shadow: 0px 1px 3px 1px rgba(0, 0, 0, 0.15);\n",
              "      filter: drop-shadow(0px 1px 2px rgba(0, 0, 0, 0.3));\n",
              "      fill: #FFFFFF;\n",
              "    }\n",
              "  </style>\n",
              "\n",
              "      <script>\n",
              "        const buttonEl =\n",
              "          document.querySelector('#df-4b41fb5a-4cc9-4d6e-b2d7-6a09fa937568 button.colab-df-convert');\n",
              "        buttonEl.style.display =\n",
              "          google.colab.kernel.accessAllowed ? 'block' : 'none';\n",
              "\n",
              "        async function convertToInteractive(key) {\n",
              "          const element = document.querySelector('#df-4b41fb5a-4cc9-4d6e-b2d7-6a09fa937568');\n",
              "          const dataTable =\n",
              "            await google.colab.kernel.invokeFunction('convertToInteractive',\n",
              "                                                     [key], {});\n",
              "          if (!dataTable) return;\n",
              "\n",
              "          const docLinkHtml = 'Like what you see? Visit the ' +\n",
              "            '<a target=\"_blank\" href=https://colab.research.google.com/notebooks/data_table.ipynb>data table notebook</a>'\n",
              "            + ' to learn more about interactive tables.';\n",
              "          element.innerHTML = '';\n",
              "          dataTable['output_type'] = 'display_data';\n",
              "          await google.colab.output.renderOutput(dataTable, element);\n",
              "          const docLink = document.createElement('div');\n",
              "          docLink.innerHTML = docLinkHtml;\n",
              "          element.appendChild(docLink);\n",
              "        }\n",
              "      </script>\n",
              "    </div>\n",
              "  </div>\n",
              "  "
            ]
          },
          "metadata": {},
          "execution_count": 26
        }
      ]
    },
    {
      "cell_type": "markdown",
      "source": [
        "https://youtu.be/9zDAWhXITms 이 영상을 참고하면 된다. 요약하면 지하가 아니라 테라스 하우스라고 한다. 그래서 음수로 표기하나보다."
      ],
      "metadata": {
        "id": "DwSnchaU24IY"
      }
    },
    {
      "cell_type": "markdown",
      "source": [
        "## 4. 가설 수립 및 검증"
      ],
      "metadata": {
        "id": "un9fLJlgzD9m"
      }
    },
    {
      "cell_type": "markdown",
      "source": [
        "### 1. 지역에 따라 거래금액이 달라질까?"
      ],
      "metadata": {
        "id": "F6u32T4NSx7t"
      }
    },
    {
      "cell_type": "markdown",
      "source": [
        "#### 1) 지역별 거래금액 barplot"
      ],
      "metadata": {
        "id": "CYg-9MQxzOkl"
      }
    },
    {
      "cell_type": "code",
      "source": [
        "df_지역별거래금액_mean = df.groupby('지역')[['거래금액']].mean()\n",
        "df_지역별거래금액_max = df.groupby('지역')[['거래금액']].max()\n",
        "df_지역별거래금액_min = df.groupby('지역')[['거래금액']].min()\n",
        "df_지역별거래금액_median = df.groupby('지역')[['거래금액']].median()"
      ],
      "metadata": {
        "id": "yUaeXTulf5Kn"
      },
      "execution_count": 27,
      "outputs": []
    },
    {
      "cell_type": "code",
      "source": [
        "feature = [df_지역별거래금액_mean,df_지역별거래금액_max,df_지역별거래금액_min,df_지역별거래금액_median]\n",
        "featur_title = ['지역별 아파트 거래금액(평균)','지역별 아파트 거래금액(최댓값)','지역별 아파트 거래금액(최솟값)','지역별 아파트 거래금액(중앙값)']\n",
        "plt.figure(figsize=(30,12))\n",
        "\n",
        "for i in range(len(feature)):\n",
        "    plt.subplot(2,2,i+1)\n",
        "    plt.title(featur_title[i])\n",
        "    sns.barplot(x=feature[i].index,y=feature[i]['거래금액'],data=feature[i])\n",
        "plt.show()"
      ],
      "metadata": {
        "colab": {
          "base_uri": "https://localhost:8080/",
          "height": 527
        },
        "id": "lnPBDBeU0xAr",
        "outputId": "d77b0590-1aff-43bc-fc36-c9d8346ad7ce"
      },
      "execution_count": 28,
      "outputs": [
        {
          "output_type": "display_data",
          "data": {
            "text/plain": [
              "<Figure size 2160x864 with 4 Axes>"
            ],
            "image/png": "[encoded data removed]"
          },
          "metadata": {
            "needs_background": "light"
          }
        }
      ]
    },
    {
      "cell_type": "markdown",
      "source": [
        "- 지역별 아파트 거래금액 평균, 중앙값, 최댓값의 경우 서울이 가장 거래금액이 높음\n",
        "- 최솟값의 경우는 부산이 가장 낮고 제주가 가장 높음"
      ],
      "metadata": {
        "id": "d3j0bVfs1213"
      }
    },
    {
      "cell_type": "markdown",
      "source": [
        "### 2) 지역별 거래금액 boxplot"
      ],
      "metadata": {
        "id": "sqzZaywSJuuv"
      }
    },
    {
      "cell_type": "code",
      "source": [
        "plt.figure(figsize=(12,8))\n",
        "plt.rcParams[\"font.size\"] = 15\n",
        "p = sns.boxplot(x='지역', y='거래금액', data=df)\n",
        "p.set_title('지역별 거래금액 boxplot')\n",
        "plt.show()"
      ],
      "metadata": {
        "colab": {
          "base_uri": "https://localhost:8080/",
          "height": 530
        },
        "id": "W_LYEPalJzbV",
        "outputId": "eb62ba9a-3a72-460b-a864-58a7e62ee3bc"
      },
      "execution_count": null,
      "outputs": [
        {
          "output_type": "display_data",
          "data": {
            "text/plain": [
              "<Figure size 864x576 with 1 Axes>"
            ],
            "image/png": "[encoded data removed]"
          },
          "metadata": {
            "needs_background": "light"
          }
        }
      ]
    },
    {
      "cell_type": "markdown",
      "source": [
        "- 서울의 거래금액 편차, 범위가 가장 크다는 것을 볼 수 있다."
      ],
      "metadata": {
        "id": "5NUoQdkGO-p4"
      }
    },
    {
      "cell_type": "markdown",
      "source": [
        "### 2. 거래일에 따라서 거래금액이 달라질까?"
      ],
      "metadata": {
        "id": "eL3bjRRQ8Zw_"
      }
    },
    {
      "cell_type": "markdown",
      "source": [
        "##### - 전국"
      ],
      "metadata": {
        "id": "LIYUMe5uZIAA"
      }
    },
    {
      "cell_type": "code",
      "source": [
        "sns.jointplot(x='거래일',y='거래금액',data=df,hue='지역')\n",
        "plt.show()"
      ],
      "metadata": {
        "id": "5LAyyw4fUN_P",
        "colab": {
          "base_uri": "https://localhost:8080/",
          "height": 441
        },
        "outputId": "cf1f39d4-ebfa-4493-cd50-3c558b17483c"
      },
      "execution_count": null,
      "outputs": [
        {
          "output_type": "display_data",
          "data": {
            "text/plain": [
              "<Figure size 432x432 with 3 Axes>"
            ],
            "image/png": "[encoded data removed]"
          },
          "metadata": {
            "needs_background": "light"
          }
        }
      ]
    },
    {
      "cell_type": "markdown",
      "source": [
        "- 서울의 경우 데이터가 많기 때문에 파란색이 가장 많이 보인다. 또한 서울의 경우 최근으로 올수록 타지역에 비해 거래금액이 높게 뛰는 데이터가 있는 것을 볼 수 있다.\n",
        "- 또한 서울의 경우 최근으로 올수록 타지역에 비해 거래금액이 높게 뛰는 데이터가 있는 것을 볼 수 있다.\n",
        "- 이 자료만 봐서 보편적으로 거래일이 최근일수록 거래금액이 높아지는 것은 아니라고 할 수 있다. 다양한 아파트가 있는 데이터셋이기 때문에 이 jointplot만 보고는 판단할 수 없다."
      ],
      "metadata": {
        "id": "l_MNcePpDHrz"
      }
    },
    {
      "cell_type": "markdown",
      "source": [
        "##### - 광역/특별시"
      ],
      "metadata": {
        "id": "C07vGetYZLoc"
      }
    },
    {
      "cell_type": "code",
      "source": [
        "df_re = df[(df['지역']=='부산')|(df['지역']=='서울')|(df['지역']=='울산')|(df['지역']=='제주')|(df['지역']=='대구')|(df['지역']=='인천')|(df['지역']=='광주')|(df['지역']=='대전')]"
      ],
      "metadata": {
        "id": "wDeD1Ej_X5NZ"
      },
      "execution_count": 78,
      "outputs": []
    },
    {
      "cell_type": "code",
      "source": [
        "plt.figure(figsize=(30,12))\n",
        "plt.rcParams[\"font.size\"] = 10\n",
        "sns.jointplot(x='거래일',y='거래금액',data=df_re,hue='지역')\n",
        "plt.show()"
      ],
      "metadata": {
        "colab": {
          "base_uri": "https://localhost:8080/",
          "height": 459
        },
        "id": "USRqz3HyYP6w",
        "outputId": "dc85db19-5d29-414d-eb3b-ed77634f7302"
      },
      "execution_count": 80,
      "outputs": [
        {
          "output_type": "display_data",
          "data": {
            "text/plain": [
              "<Figure size 2160x864 with 0 Axes>"
            ]
          },
          "metadata": {}
        },
        {
          "output_type": "display_data",
          "data": {
            "text/plain": [
              "<Figure size 432x432 with 3 Axes>"
            ],
            "image/png": "[encoded data removed]"
          },
          "metadata": {
            "needs_background": "light"
          }
        }
      ]
    },
    {
      "cell_type": "markdown",
      "source": [
        "### 3. 광역/특별시 feature 상관관계 비교"
      ],
      "metadata": {
        "id": "Bug7icQN2rR4"
      }
    },
    {
      "cell_type": "code",
      "source": [
        "df_busan = df[df['지역']=='부산']\n",
        "df_seoul = df[df['지역']=='서울']\n",
        "df_ulsan = df[df['지역']=='울산']\n",
        "df_jeju = df[df['지역']=='제주']\n",
        "df_daegu = df[df['지역']=='대구']\n",
        "df_incheon = df[df['지역']=='인천']\n",
        "df_gwangju = df[df['지역']=='광주']\n",
        "df_daejeon = df[df['지역']=='대전']"
      ],
      "metadata": {
        "id": "FVCFmosF2iAC"
      },
      "execution_count": 30,
      "outputs": []
    },
    {
      "cell_type": "code",
      "source": [
        "feature = [df_seoul,df_incheon,df_busan,df_daejeon, df_ulsan,df_daegu, df_gwangju,df_jeju]\n",
        "featur_title = ['서울','인천','부산','대전','울산','대구','광주','제주']\n",
        "plt.figure(figsize=(20,20))\n",
        "\n",
        "for i in range(len(feature)):\n",
        "    plt.subplot(4,2,i+1)\n",
        "    plt.title(featur_title[i],size=15)\n",
        "    sns.heatmap(feature[i].corr(),annot=True,cmap='YlGnBu',linewidths=0.5,annot_kws={\"size\": 15},square = True)\n",
        "plt.show()"
      ],
      "metadata": {
        "colab": {
          "base_uri": "https://localhost:8080/",
          "height": 1000
        },
        "id": "Mwq75edx-00b",
        "outputId": "aef5f634-f7e7-4d05-8be4-f76ce3d802c7"
      },
      "execution_count": 33,
      "outputs": [
        {
          "output_type": "display_data",
          "data": {
            "text/plain": [
              "<Figure size 1440x1440 with 16 Axes>"
            ],
            "image/png": "[encoded data removed]"
          },
          "metadata": {
            "needs_background": "light"
          }
        }
      ]
    },
    {
      "cell_type": "markdown",
      "source": [
        "- 서울의 경우는 타지역에 비해 건축년도와 거래금액의 상관관계가 크지 않다.\n",
        "- 서울과 제주, 특히 서울의 경우는 타지역에 비해 거래금액과 전용면적의 상관관계가 크지 않은 편이다."
      ],
      "metadata": {
        "id": "Egmd5ALQ91FM"
      }
    },
    {
      "cell_type": "markdown",
      "source": [
        "### 4. 서울과 부산의 구별 거래금액 비교"
      ],
      "metadata": {
        "id": "EZAQTd42DlzP"
      }
    },
    {
      "cell_type": "markdown",
      "source": [
        "#### 1) 서울의 구별 거래금액"
      ],
      "metadata": {
        "id": "znZ7-s0_QQbn"
      }
    },
    {
      "cell_type": "code",
      "source": [
        "df_seoul_gu = df_seoul.groupby('구')[['거래금액']].mean()\n",
        "df_seoul_gu"
      ],
      "metadata": {
        "colab": {
          "base_uri": "https://localhost:8080/",
          "height": 865
        },
        "id": "9MLc9_Zg9qpo",
        "outputId": "a5c736ff-83d0-494e-8cf1-406500b5d663"
      },
      "execution_count": 37,
      "outputs": [
        {
          "output_type": "execute_result",
          "data": {
            "text/plain": [
              "             거래금액\n",
              "구                \n",
              "강남구  134304.25694\n",
              "강동구   61414.40378\n",
              "강북구   42480.90415\n",
              "강서구   50350.20303\n",
              "관악구   46246.40704\n",
              "광진구   74944.12265\n",
              "구로구   43067.42697\n",
              "금천구   38095.01585\n",
              "노원구   38290.43670\n",
              "도봉구   35693.44627\n",
              "동대문구  50649.85217\n",
              "동작구   67793.58609\n",
              "마포구   72958.76509\n",
              "서대문구  56128.63242\n",
              "서초구  131686.51941\n",
              "성동구   77726.94448\n",
              "성북구   50979.43573\n",
              "송파구   93328.86089\n",
              "양천구   65361.54535\n",
              "영등포구  62611.27192\n",
              "용산구  119003.25176\n",
              "은평구   47954.43380\n",
              "종로구   64598.19368\n",
              "중구    68337.82185\n",
              "중랑구   39453.59539"
            ],
            "text/html": [
              "\n",
              "  <div id=\"df-46b9e4f2-3136-4758-b6b0-86a33ec55e94\">\n",
              "    <div class=\"colab-df-container\">\n",
              "      <div>\n",
              "<style scoped>\n",
              "    .dataframe tbody tr th:only-of-type {\n",
              "        vertical-align: middle;\n",
              "    }\n",
              "\n",
              "    .dataframe tbody tr th {\n",
              "        vertical-align: top;\n",
              "    }\n",
              "\n",
              "    .dataframe thead th {\n",
              "        text-align: right;\n",
              "    }\n",
              "</style>\n",
              "<table border=\"1\" class=\"dataframe\">\n",
              "  <thead>\n",
              "    <tr style=\"text-align: right;\">\n",
              "      <th></th>\n",
              "      <th>거래금액</th>\n",
              "    </tr>\n",
              "    <tr>\n",
              "      <th>구</th>\n",
              "      <th></th>\n",
              "    </tr>\n",
              "  </thead>\n",
              "  <tbody>\n",
              "    <tr>\n",
              "      <th>강남구</th>\n",
              "      <td>134304.25694</td>\n",
              "    </tr>\n",
              "    <tr>\n",
              "      <th>강동구</th>\n",
              "      <td>61414.40378</td>\n",
              "    </tr>\n",
              "    <tr>\n",
              "      <th>강북구</th>\n",
              "      <td>42480.90415</td>\n",
              "    </tr>\n",
              "    <tr>\n",
              "      <th>강서구</th>\n",
              "      <td>50350.20303</td>\n",
              "    </tr>\n",
              "    <tr>\n",
              "      <th>관악구</th>\n",
              "      <td>46246.40704</td>\n",
              "    </tr>\n",
              "    <tr>\n",
              "      <th>광진구</th>\n",
              "      <td>74944.12265</td>\n",
              "    </tr>\n",
              "    <tr>\n",
              "      <th>구로구</th>\n",
              "      <td>43067.42697</td>\n",
              "    </tr>\n",
              "    <tr>\n",
              "      <th>금천구</th>\n",
              "      <td>38095.01585</td>\n",
              "    </tr>\n",
              "    <tr>\n",
              "      <th>노원구</th>\n",
              "      <td>38290.43670</td>\n",
              "    </tr>\n",
              "    <tr>\n",
              "      <th>도봉구</th>\n",
              "      <td>35693.44627</td>\n",
              "    </tr>\n",
              "    <tr>\n",
              "      <th>동대문구</th>\n",
              "      <td>50649.85217</td>\n",
              "    </tr>\n",
              "    <tr>\n",
              "      <th>동작구</th>\n",
              "      <td>67793.58609</td>\n",
              "    </tr>\n",
              "    <tr>\n",
              "      <th>마포구</th>\n",
              "      <td>72958.76509</td>\n",
              "    </tr>\n",
              "    <tr>\n",
              "      <th>서대문구</th>\n",
              "      <td>56128.63242</td>\n",
              "    </tr>\n",
              "    <tr>\n",
              "      <th>서초구</th>\n",
              "      <td>131686.51941</td>\n",
              "    </tr>\n",
              "    <tr>\n",
              "      <th>성동구</th>\n",
              "      <td>77726.94448</td>\n",
              "    </tr>\n",
              "    <tr>\n",
              "      <th>성북구</th>\n",
              "      <td>50979.43573</td>\n",
              "    </tr>\n",
              "    <tr>\n",
              "      <th>송파구</th>\n",
              "      <td>93328.86089</td>\n",
              "    </tr>\n",
              "    <tr>\n",
              "      <th>양천구</th>\n",
              "      <td>65361.54535</td>\n",
              "    </tr>\n",
              "    <tr>\n",
              "      <th>영등포구</th>\n",
              "      <td>62611.27192</td>\n",
              "    </tr>\n",
              "    <tr>\n",
              "      <th>용산구</th>\n",
              "      <td>119003.25176</td>\n",
              "    </tr>\n",
              "    <tr>\n",
              "      <th>은평구</th>\n",
              "      <td>47954.43380</td>\n",
              "    </tr>\n",
              "    <tr>\n",
              "      <th>종로구</th>\n",
              "      <td>64598.19368</td>\n",
              "    </tr>\n",
              "    <tr>\n",
              "      <th>중구</th>\n",
              "      <td>68337.82185</td>\n",
              "    </tr>\n",
              "    <tr>\n",
              "      <th>중랑구</th>\n",
              "      <td>39453.59539</td>\n",
              "    </tr>\n",
              "  </tbody>\n",
              "</table>\n",
              "</div>\n",
              "      <button class=\"colab-df-convert\" onclick=\"convertToInteractive('df-46b9e4f2-3136-4758-b6b0-86a33ec55e94')\"\n",
              "              title=\"Convert this dataframe to an interactive table.\"\n",
              "              style=\"display:none;\">\n",
              "        \n",
              "  <svg xmlns=\"http://www.w3.org/2000/svg\" height=\"24px\"viewBox=\"0 0 24 24\"\n",
              "       width=\"24px\">\n",
              "    <path d=\"M0 0h24v24H0V0z\" fill=\"none\"/>\n",
              "    <path d=\"M18.56 5.44l.94 2.06.94-2.06 2.06-.94-2.06-.94-.94-2.06-.94 2.06-2.06.94zm-11 1L8.5 8.5l.94-2.06 2.06-.94-2.06-.94L8.5 2.5l-.94 2.06-2.06.94zm10 10l.94 2.06.94-2.06 2.06-.94-2.06-.94-.94-2.06-.94 2.06-2.06.94z\"/><path d=\"M17.41 7.96l-1.37-1.37c-.4-.4-.92-.59-1.43-.59-.52 0-1.04.2-1.43.59L10.3 9.45l-7.72 7.72c-.78.78-.78 2.05 0 2.83L4 21.41c.39.39.9.59 1.41.59.51 0 1.02-.2 1.41-.59l7.78-7.78 2.81-2.81c.8-.78.8-2.07 0-2.86zM5.41 20L4 18.59l7.72-7.72 1.47 1.35L5.41 20z\"/>\n",
              "  </svg>\n",
              "      </button>\n",
              "      \n",
              "  <style>\n",
              "    .colab-df-container {\n",
              "      display:flex;\n",
              "      flex-wrap:wrap;\n",
              "      gap: 12px;\n",
              "    }\n",
              "\n",
              "    .colab-df-convert {\n",
              "      background-color: #E8F0FE;\n",
              "      border: none;\n",
              "      border-radius: 50%;\n",
              "      cursor: pointer;\n",
              "      display: none;\n",
              "      fill: #1967D2;\n",
              "      height: 32px;\n",
              "      padding: 0 0 0 0;\n",
              "      width: 32px;\n",
              "    }\n",
              "\n",
              "    .colab-df-convert:hover {\n",
              "      background-color: #E2EBFA;\n",
              "      box-shadow: 0px 1px 2px rgba(60, 64, 67, 0.3), 0px 1px 3px 1px rgba(60, 64, 67, 0.15);\n",
              "      fill: #174EA6;\n",
              "    }\n",
              "\n",
              "    [theme=dark] .colab-df-convert {\n",
              "      background-color: #3B4455;\n",
              "      fill: #D2E3FC;\n",
              "    }\n",
              "\n",
              "    [theme=dark] .colab-df-convert:hover {\n",
              "      background-color: #434B5C;\n",
              "      box-shadow: 0px 1px 3px 1px rgba(0, 0, 0, 0.15);\n",
              "      filter: drop-shadow(0px 1px 2px rgba(0, 0, 0, 0.3));\n",
              "      fill: #FFFFFF;\n",
              "    }\n",
              "  </style>\n",
              "\n",
              "      <script>\n",
              "        const buttonEl =\n",
              "          document.querySelector('#df-46b9e4f2-3136-4758-b6b0-86a33ec55e94 button.colab-df-convert');\n",
              "        buttonEl.style.display =\n",
              "          google.colab.kernel.accessAllowed ? 'block' : 'none';\n",
              "\n",
              "        async function convertToInteractive(key) {\n",
              "          const element = document.querySelector('#df-46b9e4f2-3136-4758-b6b0-86a33ec55e94');\n",
              "          const dataTable =\n",
              "            await google.colab.kernel.invokeFunction('convertToInteractive',\n",
              "                                                     [key], {});\n",
              "          if (!dataTable) return;\n",
              "\n",
              "          const docLinkHtml = 'Like what you see? Visit the ' +\n",
              "            '<a target=\"_blank\" href=https://colab.research.google.com/notebooks/data_table.ipynb>data table notebook</a>'\n",
              "            + ' to learn more about interactive tables.';\n",
              "          element.innerHTML = '';\n",
              "          dataTable['output_type'] = 'display_data';\n",
              "          await google.colab.output.renderOutput(dataTable, element);\n",
              "          const docLink = document.createElement('div');\n",
              "          docLink.innerHTML = docLinkHtml;\n",
              "          element.appendChild(docLink);\n",
              "        }\n",
              "      </script>\n",
              "    </div>\n",
              "  </div>\n",
              "  "
            ]
          },
          "metadata": {},
          "execution_count": 37
        }
      ]
    },
    {
      "cell_type": "code",
      "source": [
        "sns.barplot(x=df_seoul_gu.index,y=df_seoul_gu['거래금액'],data=df_seoul_gu)\n",
        "plt.title('서울시 구별 거래금액 평균')\n",
        "plt.xticks(rotation=90)\n",
        "plt.show()"
      ],
      "metadata": {
        "colab": {
          "base_uri": "https://localhost:8080/",
          "height": 320
        },
        "id": "Ro4a5-wcDum1",
        "outputId": "d06234af-5237-41b2-9a4a-6a499a9cada3"
      },
      "execution_count": 39,
      "outputs": [
        {
          "output_type": "display_data",
          "data": {
            "text/plain": [
              "<Figure size 432x288 with 1 Axes>"
            ],
            "image/png": "[encoded data removed]"
          },
          "metadata": {
            "needs_background": "light"
          }
        }
      ]
    },
    {
      "cell_type": "markdown",
      "source": [
        "- 아파트 거래금액 평균은 강남구, 서초구, 용산구 순으로 높다."
      ],
      "metadata": {
        "id": "pNtfjVzJEXqR"
      }
    },
    {
      "cell_type": "markdown",
      "source": [
        "##### 강남구 동별 거래금액 평균"
      ],
      "metadata": {
        "id": "7zGwHYnaF7Uy"
      }
    },
    {
      "cell_type": "code",
      "source": [
        "df_seoul_gangnam = df[df['구']=='강남구']\n",
        "df_seoul_gangnam_mean = df_seoul_gangnam.groupby('법정동')[['거래금액']].mean()\n",
        "df_seoul_gangnam_mean"
      ],
      "metadata": {
        "colab": {
          "base_uri": "https://localhost:8080/",
          "height": 520
        },
        "id": "lHZEM3l-EFDI",
        "outputId": "deeba396-1a39-4681-f448-e672b1dd431c"
      },
      "execution_count": 42,
      "outputs": [
        {
          "output_type": "execute_result",
          "data": {
            "text/plain": [
              "             거래금액\n",
              "법정동              \n",
              "개포동  111829.78828\n",
              "논현동   96364.55388\n",
              "대치동  163299.56922\n",
              "도곡동  150266.77081\n",
              "삼성동  144016.83750\n",
              "세곡동   87919.42353\n",
              "수서동   86506.56820\n",
              "신사동  102441.25683\n",
              "압구정동 234743.00000\n",
              "역삼동  104062.49673\n",
              "율현동   85588.41860\n",
              "일원동  112464.87926\n",
              "자곡동  111280.13393\n",
              "청담동  150560.56883"
            ],
            "text/html": [
              "\n",
              "  <div id=\"df-800b99ab-1be0-44ed-8d99-1743c1def712\">\n",
              "    <div class=\"colab-df-container\">\n",
              "      <div>\n",
              "<style scoped>\n",
              "    .dataframe tbody tr th:only-of-type {\n",
              "        vertical-align: middle;\n",
              "    }\n",
              "\n",
              "    .dataframe tbody tr th {\n",
              "        vertical-align: top;\n",
              "    }\n",
              "\n",
              "    .dataframe thead th {\n",
              "        text-align: right;\n",
              "    }\n",
              "</style>\n",
              "<table border=\"1\" class=\"dataframe\">\n",
              "  <thead>\n",
              "    <tr style=\"text-align: right;\">\n",
              "      <th></th>\n",
              "      <th>거래금액</th>\n",
              "    </tr>\n",
              "    <tr>\n",
              "      <th>법정동</th>\n",
              "      <th></th>\n",
              "    </tr>\n",
              "  </thead>\n",
              "  <tbody>\n",
              "    <tr>\n",
              "      <th>개포동</th>\n",
              "      <td>111829.78828</td>\n",
              "    </tr>\n",
              "    <tr>\n",
              "      <th>논현동</th>\n",
              "      <td>96364.55388</td>\n",
              "    </tr>\n",
              "    <tr>\n",
              "      <th>대치동</th>\n",
              "      <td>163299.56922</td>\n",
              "    </tr>\n",
              "    <tr>\n",
              "      <th>도곡동</th>\n",
              "      <td>150266.77081</td>\n",
              "    </tr>\n",
              "    <tr>\n",
              "      <th>삼성동</th>\n",
              "      <td>144016.83750</td>\n",
              "    </tr>\n",
              "    <tr>\n",
              "      <th>세곡동</th>\n",
              "      <td>87919.42353</td>\n",
              "    </tr>\n",
              "    <tr>\n",
              "      <th>수서동</th>\n",
              "      <td>86506.56820</td>\n",
              "    </tr>\n",
              "    <tr>\n",
              "      <th>신사동</th>\n",
              "      <td>102441.25683</td>\n",
              "    </tr>\n",
              "    <tr>\n",
              "      <th>압구정동</th>\n",
              "      <td>234743.00000</td>\n",
              "    </tr>\n",
              "    <tr>\n",
              "      <th>역삼동</th>\n",
              "      <td>104062.49673</td>\n",
              "    </tr>\n",
              "    <tr>\n",
              "      <th>율현동</th>\n",
              "      <td>85588.41860</td>\n",
              "    </tr>\n",
              "    <tr>\n",
              "      <th>일원동</th>\n",
              "      <td>112464.87926</td>\n",
              "    </tr>\n",
              "    <tr>\n",
              "      <th>자곡동</th>\n",
              "      <td>111280.13393</td>\n",
              "    </tr>\n",
              "    <tr>\n",
              "      <th>청담동</th>\n",
              "      <td>150560.56883</td>\n",
              "    </tr>\n",
              "  </tbody>\n",
              "</table>\n",
              "</div>\n",
              "      <button class=\"colab-df-convert\" onclick=\"convertToInteractive('df-800b99ab-1be0-44ed-8d99-1743c1def712')\"\n",
              "              title=\"Convert this dataframe to an interactive table.\"\n",
              "              style=\"display:none;\">\n",
              "        \n",
              "  <svg xmlns=\"http://www.w3.org/2000/svg\" height=\"24px\"viewBox=\"0 0 24 24\"\n",
              "       width=\"24px\">\n",
              "    <path d=\"M0 0h24v24H0V0z\" fill=\"none\"/>\n",
              "    <path d=\"M18.56 5.44l.94 2.06.94-2.06 2.06-.94-2.06-.94-.94-2.06-.94 2.06-2.06.94zm-11 1L8.5 8.5l.94-2.06 2.06-.94-2.06-.94L8.5 2.5l-.94 2.06-2.06.94zm10 10l.94 2.06.94-2.06 2.06-.94-2.06-.94-.94-2.06-.94 2.06-2.06.94z\"/><path d=\"M17.41 7.96l-1.37-1.37c-.4-.4-.92-.59-1.43-.59-.52 0-1.04.2-1.43.59L10.3 9.45l-7.72 7.72c-.78.78-.78 2.05 0 2.83L4 21.41c.39.39.9.59 1.41.59.51 0 1.02-.2 1.41-.59l7.78-7.78 2.81-2.81c.8-.78.8-2.07 0-2.86zM5.41 20L4 18.59l7.72-7.72 1.47 1.35L5.41 20z\"/>\n",
              "  </svg>\n",
              "      </button>\n",
              "      \n",
              "  <style>\n",
              "    .colab-df-container {\n",
              "      display:flex;\n",
              "      flex-wrap:wrap;\n",
              "      gap: 12px;\n",
              "    }\n",
              "\n",
              "    .colab-df-convert {\n",
              "      background-color: #E8F0FE;\n",
              "      border: none;\n",
              "      border-radius: 50%;\n",
              "      cursor: pointer;\n",
              "      display: none;\n",
              "      fill: #1967D2;\n",
              "      height: 32px;\n",
              "      padding: 0 0 0 0;\n",
              "      width: 32px;\n",
              "    }\n",
              "\n",
              "    .colab-df-convert:hover {\n",
              "      background-color: #E2EBFA;\n",
              "      box-shadow: 0px 1px 2px rgba(60, 64, 67, 0.3), 0px 1px 3px 1px rgba(60, 64, 67, 0.15);\n",
              "      fill: #174EA6;\n",
              "    }\n",
              "\n",
              "    [theme=dark] .colab-df-convert {\n",
              "      background-color: #3B4455;\n",
              "      fill: #D2E3FC;\n",
              "    }\n",
              "\n",
              "    [theme=dark] .colab-df-convert:hover {\n",
              "      background-color: #434B5C;\n",
              "      box-shadow: 0px 1px 3px 1px rgba(0, 0, 0, 0.15);\n",
              "      filter: drop-shadow(0px 1px 2px rgba(0, 0, 0, 0.3));\n",
              "      fill: #FFFFFF;\n",
              "    }\n",
              "  </style>\n",
              "\n",
              "      <script>\n",
              "        const buttonEl =\n",
              "          document.querySelector('#df-800b99ab-1be0-44ed-8d99-1743c1def712 button.colab-df-convert');\n",
              "        buttonEl.style.display =\n",
              "          google.colab.kernel.accessAllowed ? 'block' : 'none';\n",
              "\n",
              "        async function convertToInteractive(key) {\n",
              "          const element = document.querySelector('#df-800b99ab-1be0-44ed-8d99-1743c1def712');\n",
              "          const dataTable =\n",
              "            await google.colab.kernel.invokeFunction('convertToInteractive',\n",
              "                                                     [key], {});\n",
              "          if (!dataTable) return;\n",
              "\n",
              "          const docLinkHtml = 'Like what you see? Visit the ' +\n",
              "            '<a target=\"_blank\" href=https://colab.research.google.com/notebooks/data_table.ipynb>data table notebook</a>'\n",
              "            + ' to learn more about interactive tables.';\n",
              "          element.innerHTML = '';\n",
              "          dataTable['output_type'] = 'display_data';\n",
              "          await google.colab.output.renderOutput(dataTable, element);\n",
              "          const docLink = document.createElement('div');\n",
              "          docLink.innerHTML = docLinkHtml;\n",
              "          element.appendChild(docLink);\n",
              "        }\n",
              "      </script>\n",
              "    </div>\n",
              "  </div>\n",
              "  "
            ]
          },
          "metadata": {},
          "execution_count": 42
        }
      ]
    },
    {
      "cell_type": "code",
      "source": [
        "sns.barplot(x=df_seoul_gangnam_mean.index,y=df_seoul_gangnam_mean['거래금액'],data=df_seoul_gangnam_mean)\n",
        "plt.title('강남구 구별 거래금액 평균')\n",
        "plt.xticks(rotation=90)\n",
        "plt.show()"
      ],
      "metadata": {
        "colab": {
          "base_uri": "https://localhost:8080/",
          "height": 320
        },
        "id": "OyOhCzaWFVyf",
        "outputId": "1e07a7f6-dba3-4f5a-c2d1-dde5793c8b6e"
      },
      "execution_count": 43,
      "outputs": [
        {
          "output_type": "display_data",
          "data": {
            "text/plain": [
              "<Figure size 432x288 with 1 Axes>"
            ],
            "image/png": "[encoded data removed]"
          },
          "metadata": {
            "needs_background": "light"
          }
        }
      ]
    },
    {
      "cell_type": "markdown",
      "source": [
        "- 논현동, 청담동이 가장 높을 줄 알았는데 압구정동이 거래금액이 압도적으로 높다"
      ],
      "metadata": {
        "id": "q8L9Ef1MGBWP"
      }
    },
    {
      "cell_type": "markdown",
      "source": [
        "#### 2) 부산의 구별 거래금액"
      ],
      "metadata": {
        "id": "07upqgWgGKGC"
      }
    },
    {
      "cell_type": "code",
      "source": [
        "df_busan_gu = df_busan.groupby('구')[['거래금액']].mean()\n",
        "df_busan_gu"
      ],
      "metadata": {
        "colab": {
          "base_uri": "https://localhost:8080/",
          "height": 582
        },
        "outputId": "9faf4f5e-865a-41e3-d910-f6a7cadefbf6",
        "id": "RNQwmMAnGODv"
      },
      "execution_count": 44,
      "outputs": [
        {
          "output_type": "execute_result",
          "data": {
            "text/plain": [
              "            거래금액\n",
              "구               \n",
              "강서구  32513.42066\n",
              "금정구  30193.95855\n",
              "기장군  22615.92905\n",
              "남구   32790.26749\n",
              "동구   21807.21717\n",
              "동래구  31646.53479\n",
              "부산진구 23055.45176\n",
              "북구   23758.38578\n",
              "사상구  18270.71022\n",
              "사하구  18814.17275\n",
              "서구   25754.28416\n",
              "수영구  39068.95817\n",
              "연제구  31702.51439\n",
              "영도구  16765.80903\n",
              "중구   17191.55891\n",
              "해운대구 39280.51143"
            ],
            "text/html": [
              "\n",
              "  <div id=\"df-3215be71-5216-4b70-bd08-0c652e64c064\">\n",
              "    <div class=\"colab-df-container\">\n",
              "      <div>\n",
              "<style scoped>\n",
              "    .dataframe tbody tr th:only-of-type {\n",
              "        vertical-align: middle;\n",
              "    }\n",
              "\n",
              "    .dataframe tbody tr th {\n",
              "        vertical-align: top;\n",
              "    }\n",
              "\n",
              "    .dataframe thead th {\n",
              "        text-align: right;\n",
              "    }\n",
              "</style>\n",
              "<table border=\"1\" class=\"dataframe\">\n",
              "  <thead>\n",
              "    <tr style=\"text-align: right;\">\n",
              "      <th></th>\n",
              "      <th>거래금액</th>\n",
              "    </tr>\n",
              "    <tr>\n",
              "      <th>구</th>\n",
              "      <th></th>\n",
              "    </tr>\n",
              "  </thead>\n",
              "  <tbody>\n",
              "    <tr>\n",
              "      <th>강서구</th>\n",
              "      <td>32513.42066</td>\n",
              "    </tr>\n",
              "    <tr>\n",
              "      <th>금정구</th>\n",
              "      <td>30193.95855</td>\n",
              "    </tr>\n",
              "    <tr>\n",
              "      <th>기장군</th>\n",
              "      <td>22615.92905</td>\n",
              "    </tr>\n",
              "    <tr>\n",
              "      <th>남구</th>\n",
              "      <td>32790.26749</td>\n",
              "    </tr>\n",
              "    <tr>\n",
              "      <th>동구</th>\n",
              "      <td>21807.21717</td>\n",
              "    </tr>\n",
              "    <tr>\n",
              "      <th>동래구</th>\n",
              "      <td>31646.53479</td>\n",
              "    </tr>\n",
              "    <tr>\n",
              "      <th>부산진구</th>\n",
              "      <td>23055.45176</td>\n",
              "    </tr>\n",
              "    <tr>\n",
              "      <th>북구</th>\n",
              "      <td>23758.38578</td>\n",
              "    </tr>\n",
              "    <tr>\n",
              "      <th>사상구</th>\n",
              "      <td>18270.71022</td>\n",
              "    </tr>\n",
              "    <tr>\n",
              "      <th>사하구</th>\n",
              "      <td>18814.17275</td>\n",
              "    </tr>\n",
              "    <tr>\n",
              "      <th>서구</th>\n",
              "      <td>25754.28416</td>\n",
              "    </tr>\n",
              "    <tr>\n",
              "      <th>수영구</th>\n",
              "      <td>39068.95817</td>\n",
              "    </tr>\n",
              "    <tr>\n",
              "      <th>연제구</th>\n",
              "      <td>31702.51439</td>\n",
              "    </tr>\n",
              "    <tr>\n",
              "      <th>영도구</th>\n",
              "      <td>16765.80903</td>\n",
              "    </tr>\n",
              "    <tr>\n",
              "      <th>중구</th>\n",
              "      <td>17191.55891</td>\n",
              "    </tr>\n",
              "    <tr>\n",
              "      <th>해운대구</th>\n",
              "      <td>39280.51143</td>\n",
              "    </tr>\n",
              "  </tbody>\n",
              "</table>\n",
              "</div>\n",
              "      <button class=\"colab-df-convert\" onclick=\"convertToInteractive('df-3215be71-5216-4b70-bd08-0c652e64c064')\"\n",
              "              title=\"Convert this dataframe to an interactive table.\"\n",
              "              style=\"display:none;\">\n",
              "        \n",
              "  <svg xmlns=\"http://www.w3.org/2000/svg\" height=\"24px\"viewBox=\"0 0 24 24\"\n",
              "       width=\"24px\">\n",
              "    <path d=\"M0 0h24v24H0V0z\" fill=\"none\"/>\n",
              "    <path d=\"M18.56 5.44l.94 2.06.94-2.06 2.06-.94-2.06-.94-.94-2.06-.94 2.06-2.06.94zm-11 1L8.5 8.5l.94-2.06 2.06-.94-2.06-.94L8.5 2.5l-.94 2.06-2.06.94zm10 10l.94 2.06.94-2.06 2.06-.94-2.06-.94-.94-2.06-.94 2.06-2.06.94z\"/><path d=\"M17.41 7.96l-1.37-1.37c-.4-.4-.92-.59-1.43-.59-.52 0-1.04.2-1.43.59L10.3 9.45l-7.72 7.72c-.78.78-.78 2.05 0 2.83L4 21.41c.39.39.9.59 1.41.59.51 0 1.02-.2 1.41-.59l7.78-7.78 2.81-2.81c.8-.78.8-2.07 0-2.86zM5.41 20L4 18.59l7.72-7.72 1.47 1.35L5.41 20z\"/>\n",
              "  </svg>\n",
              "      </button>\n",
              "      \n",
              "  <style>\n",
              "    .colab-df-container {\n",
              "      display:flex;\n",
              "      flex-wrap:wrap;\n",
              "      gap: 12px;\n",
              "    }\n",
              "\n",
              "    .colab-df-convert {\n",
              "      background-color: #E8F0FE;\n",
              "      border: none;\n",
              "      border-radius: 50%;\n",
              "      cursor: pointer;\n",
              "      display: none;\n",
              "      fill: #1967D2;\n",
              "      height: 32px;\n",
              "      padding: 0 0 0 0;\n",
              "      width: 32px;\n",
              "    }\n",
              "\n",
              "    .colab-df-convert:hover {\n",
              "      background-color: #E2EBFA;\n",
              "      box-shadow: 0px 1px 2px rgba(60, 64, 67, 0.3), 0px 1px 3px 1px rgba(60, 64, 67, 0.15);\n",
              "      fill: #174EA6;\n",
              "    }\n",
              "\n",
              "    [theme=dark] .colab-df-convert {\n",
              "      background-color: #3B4455;\n",
              "      fill: #D2E3FC;\n",
              "    }\n",
              "\n",
              "    [theme=dark] .colab-df-convert:hover {\n",
              "      background-color: #434B5C;\n",
              "      box-shadow: 0px 1px 3px 1px rgba(0, 0, 0, 0.15);\n",
              "      filter: drop-shadow(0px 1px 2px rgba(0, 0, 0, 0.3));\n",
              "      fill: #FFFFFF;\n",
              "    }\n",
              "  </style>\n",
              "\n",
              "      <script>\n",
              "        const buttonEl =\n",
              "          document.querySelector('#df-3215be71-5216-4b70-bd08-0c652e64c064 button.colab-df-convert');\n",
              "        buttonEl.style.display =\n",
              "          google.colab.kernel.accessAllowed ? 'block' : 'none';\n",
              "\n",
              "        async function convertToInteractive(key) {\n",
              "          const element = document.querySelector('#df-3215be71-5216-4b70-bd08-0c652e64c064');\n",
              "          const dataTable =\n",
              "            await google.colab.kernel.invokeFunction('convertToInteractive',\n",
              "                                                     [key], {});\n",
              "          if (!dataTable) return;\n",
              "\n",
              "          const docLinkHtml = 'Like what you see? Visit the ' +\n",
              "            '<a target=\"_blank\" href=https://colab.research.google.com/notebooks/data_table.ipynb>data table notebook</a>'\n",
              "            + ' to learn more about interactive tables.';\n",
              "          element.innerHTML = '';\n",
              "          dataTable['output_type'] = 'display_data';\n",
              "          await google.colab.output.renderOutput(dataTable, element);\n",
              "          const docLink = document.createElement('div');\n",
              "          docLink.innerHTML = docLinkHtml;\n",
              "          element.appendChild(docLink);\n",
              "        }\n",
              "      </script>\n",
              "    </div>\n",
              "  </div>\n",
              "  "
            ]
          },
          "metadata": {},
          "execution_count": 44
        }
      ]
    },
    {
      "cell_type": "code",
      "source": [
        "sns.barplot(x=df_busan_gu.index,y=df_busan_gu['거래금액'],data=df_busan_gu)\n",
        "plt.title('부산시 구별 거래금액 평균')\n",
        "plt.xticks(rotation=90)\n",
        "plt.show()"
      ],
      "metadata": {
        "colab": {
          "base_uri": "https://localhost:8080/",
          "height": 320
        },
        "outputId": "e42fdf6e-df6d-479a-ad2b-d776aa397bbb",
        "id": "ltomZM8EGODw"
      },
      "execution_count": 45,
      "outputs": [
        {
          "output_type": "display_data",
          "data": {
            "text/plain": [
              "<Figure size 432x288 with 1 Axes>"
            ],
            "image/png": "[encoded data removed]"
          },
          "metadata": {
            "needs_background": "light"
          }
        }
      ]
    },
    {
      "cell_type": "markdown",
      "source": [
        "- 해운대구, 수영구, 남구 순서대로 거래금액 평균이 높다.\n",
        "- 부산거주인으로서 첨언하자면 해운대는 마린시티, 아이파크 등 집값이 비싼건 다들 알테고 수영구는 광안리가 있기 때문이 아닌가 추측해본다."
      ],
      "metadata": {
        "id": "G3NAbyhFGbpC"
      }
    },
    {
      "cell_type": "markdown",
      "source": [
        "##### 해운대구 동별 거래금액 평균"
      ],
      "metadata": {
        "id": "hao4sqn4GODw"
      }
    },
    {
      "cell_type": "code",
      "source": [
        "df_busan_haeundae = df[df['구']=='해운대구']\n",
        "df_busan_haeundae_mean = df_busan_haeundae.groupby('법정동')[['거래금액']].mean()\n",
        "df_busan_haeundae_mean"
      ],
      "metadata": {
        "colab": {
          "base_uri": "https://localhost:8080/",
          "height": 300
        },
        "outputId": "06258c16-6a2e-4e17-c0bc-af4b1da917c4",
        "id": "6G6NLpOaGODx"
      },
      "execution_count": 49,
      "outputs": [
        {
          "output_type": "execute_result",
          "data": {
            "text/plain": [
              "           거래금액\n",
              "법정동            \n",
              "반송동 13746.03140\n",
              "반여동 26178.88315\n",
              "송정동 22328.23673\n",
              "우동  63913.37183\n",
              "재송동 32499.94708\n",
              "좌동  32150.58617\n",
              "중동  48479.42339"
            ],
            "text/html": [
              "\n",
              "  <div id=\"df-b20f4f89-7598-460c-8a63-4c30275dd9f7\">\n",
              "    <div class=\"colab-df-container\">\n",
              "      <div>\n",
              "<style scoped>\n",
              "    .dataframe tbody tr th:only-of-type {\n",
              "        vertical-align: middle;\n",
              "    }\n",
              "\n",
              "    .dataframe tbody tr th {\n",
              "        vertical-align: top;\n",
              "    }\n",
              "\n",
              "    .dataframe thead th {\n",
              "        text-align: right;\n",
              "    }\n",
              "</style>\n",
              "<table border=\"1\" class=\"dataframe\">\n",
              "  <thead>\n",
              "    <tr style=\"text-align: right;\">\n",
              "      <th></th>\n",
              "      <th>거래금액</th>\n",
              "    </tr>\n",
              "    <tr>\n",
              "      <th>법정동</th>\n",
              "      <th></th>\n",
              "    </tr>\n",
              "  </thead>\n",
              "  <tbody>\n",
              "    <tr>\n",
              "      <th>반송동</th>\n",
              "      <td>13746.03140</td>\n",
              "    </tr>\n",
              "    <tr>\n",
              "      <th>반여동</th>\n",
              "      <td>26178.88315</td>\n",
              "    </tr>\n",
              "    <tr>\n",
              "      <th>송정동</th>\n",
              "      <td>22328.23673</td>\n",
              "    </tr>\n",
              "    <tr>\n",
              "      <th>우동</th>\n",
              "      <td>63913.37183</td>\n",
              "    </tr>\n",
              "    <tr>\n",
              "      <th>재송동</th>\n",
              "      <td>32499.94708</td>\n",
              "    </tr>\n",
              "    <tr>\n",
              "      <th>좌동</th>\n",
              "      <td>32150.58617</td>\n",
              "    </tr>\n",
              "    <tr>\n",
              "      <th>중동</th>\n",
              "      <td>48479.42339</td>\n",
              "    </tr>\n",
              "  </tbody>\n",
              "</table>\n",
              "</div>\n",
              "      <button class=\"colab-df-convert\" onclick=\"convertToInteractive('df-b20f4f89-7598-460c-8a63-4c30275dd9f7')\"\n",
              "              title=\"Convert this dataframe to an interactive table.\"\n",
              "              style=\"display:none;\">\n",
              "        \n",
              "  <svg xmlns=\"http://www.w3.org/2000/svg\" height=\"24px\"viewBox=\"0 0 24 24\"\n",
              "       width=\"24px\">\n",
              "    <path d=\"M0 0h24v24H0V0z\" fill=\"none\"/>\n",
              "    <path d=\"M18.56 5.44l.94 2.06.94-2.06 2.06-.94-2.06-.94-.94-2.06-.94 2.06-2.06.94zm-11 1L8.5 8.5l.94-2.06 2.06-.94-2.06-.94L8.5 2.5l-.94 2.06-2.06.94zm10 10l.94 2.06.94-2.06 2.06-.94-2.06-.94-.94-2.06-.94 2.06-2.06.94z\"/><path d=\"M17.41 7.96l-1.37-1.37c-.4-.4-.92-.59-1.43-.59-.52 0-1.04.2-1.43.59L10.3 9.45l-7.72 7.72c-.78.78-.78 2.05 0 2.83L4 21.41c.39.39.9.59 1.41.59.51 0 1.02-.2 1.41-.59l7.78-7.78 2.81-2.81c.8-.78.8-2.07 0-2.86zM5.41 20L4 18.59l7.72-7.72 1.47 1.35L5.41 20z\"/>\n",
              "  </svg>\n",
              "      </button>\n",
              "      \n",
              "  <style>\n",
              "    .colab-df-container {\n",
              "      display:flex;\n",
              "      flex-wrap:wrap;\n",
              "      gap: 12px;\n",
              "    }\n",
              "\n",
              "    .colab-df-convert {\n",
              "      background-color: #E8F0FE;\n",
              "      border: none;\n",
              "      border-radius: 50%;\n",
              "      cursor: pointer;\n",
              "      display: none;\n",
              "      fill: #1967D2;\n",
              "      height: 32px;\n",
              "      padding: 0 0 0 0;\n",
              "      width: 32px;\n",
              "    }\n",
              "\n",
              "    .colab-df-convert:hover {\n",
              "      background-color: #E2EBFA;\n",
              "      box-shadow: 0px 1px 2px rgba(60, 64, 67, 0.3), 0px 1px 3px 1px rgba(60, 64, 67, 0.15);\n",
              "      fill: #174EA6;\n",
              "    }\n",
              "\n",
              "    [theme=dark] .colab-df-convert {\n",
              "      background-color: #3B4455;\n",
              "      fill: #D2E3FC;\n",
              "    }\n",
              "\n",
              "    [theme=dark] .colab-df-convert:hover {\n",
              "      background-color: #434B5C;\n",
              "      box-shadow: 0px 1px 3px 1px rgba(0, 0, 0, 0.15);\n",
              "      filter: drop-shadow(0px 1px 2px rgba(0, 0, 0, 0.3));\n",
              "      fill: #FFFFFF;\n",
              "    }\n",
              "  </style>\n",
              "\n",
              "      <script>\n",
              "        const buttonEl =\n",
              "          document.querySelector('#df-b20f4f89-7598-460c-8a63-4c30275dd9f7 button.colab-df-convert');\n",
              "        buttonEl.style.display =\n",
              "          google.colab.kernel.accessAllowed ? 'block' : 'none';\n",
              "\n",
              "        async function convertToInteractive(key) {\n",
              "          const element = document.querySelector('#df-b20f4f89-7598-460c-8a63-4c30275dd9f7');\n",
              "          const dataTable =\n",
              "            await google.colab.kernel.invokeFunction('convertToInteractive',\n",
              "                                                     [key], {});\n",
              "          if (!dataTable) return;\n",
              "\n",
              "          const docLinkHtml = 'Like what you see? Visit the ' +\n",
              "            '<a target=\"_blank\" href=https://colab.research.google.com/notebooks/data_table.ipynb>data table notebook</a>'\n",
              "            + ' to learn more about interactive tables.';\n",
              "          element.innerHTML = '';\n",
              "          dataTable['output_type'] = 'display_data';\n",
              "          await google.colab.output.renderOutput(dataTable, element);\n",
              "          const docLink = document.createElement('div');\n",
              "          docLink.innerHTML = docLinkHtml;\n",
              "          element.appendChild(docLink);\n",
              "        }\n",
              "      </script>\n",
              "    </div>\n",
              "  </div>\n",
              "  "
            ]
          },
          "metadata": {},
          "execution_count": 49
        }
      ]
    },
    {
      "cell_type": "code",
      "source": [
        "sns.barplot(x=df_busan_haeundae_mean.index,y=df_busan_haeundae_mean['거래금액'],data=df_busan_haeundae_mean)\n",
        "plt.title('해운대구 구별 거래금액 평균')\n",
        "plt.xticks(rotation=90)\n",
        "plt.show()"
      ],
      "metadata": {
        "colab": {
          "base_uri": "https://localhost:8080/",
          "height": 311
        },
        "outputId": "c6851a62-25b8-4fc8-f242-70a734ebc7db",
        "id": "eQeGZ6ZPGODx"
      },
      "execution_count": 50,
      "outputs": [
        {
          "output_type": "display_data",
          "data": {
            "text/plain": [
              "<Figure size 432x288 with 1 Axes>"
            ],
            "image/png": "[encoded data removed]"
          },
          "metadata": {
            "needs_background": "light"
          }
        }
      ]
    },
    {
      "cell_type": "markdown",
      "source": [
        "- 우동, 중동순으로 집값이 높다. 다들 아시는 해운대 현대 아이파크는 우동에 있다. 센텀시티도 우동이다 !"
      ],
      "metadata": {
        "id": "Cki3_R8YGODx"
      }
    },
    {
      "cell_type": "markdown",
      "source": [
        "## 4. 결론"
      ],
      "metadata": {
        "id": "BXLU0XlHHy-A"
      }
    },
    {
      "cell_type": "markdown",
      "source": [
        "- 전체적으로 서울의 집값이 압도적으로 높다.\n",
        "- 특히 서울의 경우에는 건축연도와 집값이 큰 상관관계를 가지지 않는다.\n",
        "- 서울 집값에 대한 부동산 정책이 필요하다는 것을 알 수 있다."
      ],
      "metadata": {
        "id": "bkcIugoWPtIf"
      }
    }
  ]
}